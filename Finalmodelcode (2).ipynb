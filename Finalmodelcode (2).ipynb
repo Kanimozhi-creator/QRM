{
 "cells": [
  {
   "cell_type": "code",
   "execution_count": 1,
   "metadata": {
    "id": "QBGztCvgST42"
   },
   "outputs": [
    {
     "name": "stderr",
     "output_type": "stream",
     "text": [
      "<frozen importlib._bootstrap>:219: RuntimeWarning: scipy._lib.messagestream.MessageStream size changed, may indicate binary incompatibility. Expected 56 from C header, got 64 from PyObject\n"
     ]
    },
    {
     "name": "stdout",
     "output_type": "stream",
     "text": [
      "cpu\n"
     ]
    }
   ],
   "source": [
    "import time\n",
    "import matplotlib\n",
    "import numpy as np\n",
    "import matplotlib.pyplot as plt\n",
    "import math\n",
    "import pandas as pd\n",
    "from sklearn.neural_network import MLPRegressor\n",
    "from sklearn.preprocessing import MinMaxScaler\n",
    "from sklearn.metrics import mean_squared_error\n",
    "from sklearn.utils import shuffle\n",
    "from sklearn.model_selection import train_test_split\n",
    "import sys\n",
    "import pickle\n",
    "import torch\n",
    "from torch import nn, optim\n",
    "from torchvision import transforms\n",
    "from collections import OrderedDict\n",
    "device = torch.device(\"cuda\" if torch.cuda.is_available() else \"cpu\")\n",
    "print(device)\n",
    "scaler1 = MinMaxScaler()  \n",
    "scaler2 = MinMaxScaler()  "
   ]
  },
  {
   "cell_type": "code",
   "execution_count": 2,
   "metadata": {
    "id": "tQA-vnkHM06B"
   },
   "outputs": [
    {
     "name": "stdout",
     "output_type": "stream",
     "text": [
      "Collecting openpyxl\n",
      "  Using cached openpyxl-3.0.9-py2.py3-none-any.whl (242 kB)\n",
      "Collecting et-xmlfile\n",
      "  Using cached et_xmlfile-1.1.0-py3-none-any.whl (4.7 kB)\n",
      "Installing collected packages: et-xmlfile, openpyxl\n",
      "Successfully installed et-xmlfile-1.1.0 openpyxl-3.0.9\n",
      "Note: you may need to restart the kernel to use updated packages.\n"
     ]
    }
   ],
   "source": [
    "pip install openpyxl"
   ]
  },
  {
   "cell_type": "code",
   "execution_count": 3,
   "metadata": {
    "colab": {
     "base_uri": "https://localhost:8080/"
    },
    "id": "RGIaZb-4PFcA",
    "outputId": "019ee9d0-296a-43db-831b-a9955d1fbb32"
   },
   "outputs": [
    {
     "name": "stdout",
     "output_type": "stream",
     "text": [
      "[[ 1.00000000e+00  1.70000000e+01  2.00000000e+00  2.60000000e+01\n",
      "  -8.93514148e-01]\n",
      " [ 2.00000000e+00  1.70000000e+01  2.00000000e+00  2.60100000e+01\n",
      "  -8.93357904e-01]\n",
      " [ 3.00000000e+00  1.70000000e+01  2.00000000e+00  2.60150000e+01\n",
      "  -8.93204131e-01]\n",
      " ...\n",
      " [ 1.48910000e+04  1.70000000e+01  2.00000000e+00  2.60150000e+01\n",
      "  -8.87039143e-01]\n",
      " [ 1.48920000e+04  1.70000000e+01  2.00000000e+00  2.60100000e+01\n",
      "  -8.87267666e-01]\n",
      " [ 1.48930000e+04  1.70000000e+01  2.00000000e+00  2.60000000e+01\n",
      "  -8.87505702e-01]]\n",
      "(14893, 5)\n",
      "Sheet2\n",
      "Sheet3\n",
      "Sheet4\n",
      "Sheet5\n",
      "Sheet6\n",
      "Sheet8\n",
      "Sheet9\n",
      "(119144, 5)\n",
      "no. of training points:  119144\n"
     ]
    }
   ],
   "source": [
    "scaler1 = MinMaxScaler()  \n",
    "scaler2 = MinMaxScaler()  \n",
    "no_of_output_nodes = 1\n",
    "\n",
    "df_1 = pd.read_excel('DSF data.xlsx','Sheet1')  #TEMP PCF TRAIN.xlsx  temp_data\n",
    "datafile_1 = df_1.values                  ## stored data from xlsx file\n",
    "print(datafile_1)\n",
    "print(df_1.shape)\n",
    "sheets = ['Sheet2', 'Sheet3', \n",
    "                'Sheet4', 'Sheet5',\n",
    "                'Sheet6', 'Sheet8', 'Sheet9']\n",
    "# sheets_names = []\n",
    "for sheet_name in sheets:\n",
    "    print(sheet_name)\n",
    "    df_sheet_name = pd.read_excel('DSF data.xlsx', sheet_name)\n",
    "    datafile_sheet_name = df_sheet_name.values                  ## stored data from xlsx file\n",
    "    #print(datafile_sheet_name)\n",
    "    #########    combining data from all sheets of excel file    #########\n",
    "    datafile_1 = np.concatenate((datafile_1, datafile_sheet_name), axis=0)\n",
    "\n",
    "print(datafile_1.shape)\n",
    "#print()\n",
    "########   just to see output variable values   ##########\n",
    "out_var_datafile_1 = datafile_1[:,range(1,2)]              ## stored output_variable (4th column) from xlsx file\n",
    "out_var_datafile_1 = out_var_datafile_1.reshape((-1,no_of_output_nodes))    ## one column with unknown no. of rows\n",
    "#print(out_var_datafile_1)\n",
    "print('no. of training points: ', len(out_var_datafile_1))\n",
    "\n",
    "\n",
    "\n"
   ]
  },
  {
   "cell_type": "code",
   "execution_count": 4,
   "metadata": {},
   "outputs": [
    {
     "name": "stdout",
     "output_type": "stream",
     "text": [
      "Collecting tensorflow\n",
      "  Using cached tensorflow-2.8.0-cp38-cp38-manylinux2010_x86_64.whl (497.6 MB)\n",
      "Requirement already satisfied: h5py>=2.9.0 in /opt/conda/lib/python3.8/site-packages (from tensorflow) (3.6.0)\n",
      "Requirement already satisfied: typing-extensions>=3.6.6 in /opt/conda/lib/python3.8/site-packages (from tensorflow) (4.1.1)\n",
      "Requirement already satisfied: protobuf>=3.9.2 in /opt/conda/lib/python3.8/site-packages (from tensorflow) (3.14.0)\n",
      "Collecting wrapt>=1.11.0\n",
      "  Using cached wrapt-1.13.3-cp38-cp38-manylinux_2_5_x86_64.manylinux1_x86_64.manylinux_2_12_x86_64.manylinux2010_x86_64.whl (84 kB)\n",
      "Collecting gast>=0.2.1\n",
      "  Using cached gast-0.5.3-py3-none-any.whl (19 kB)\n",
      "Collecting astunparse>=1.6.0\n",
      "  Using cached astunparse-1.6.3-py2.py3-none-any.whl (12 kB)\n",
      "Collecting tensorflow-io-gcs-filesystem>=0.23.1\n",
      "  Using cached tensorflow_io_gcs_filesystem-0.24.0-cp38-cp38-manylinux_2_12_x86_64.manylinux2010_x86_64.whl (2.1 MB)\n",
      "Collecting libclang>=9.0.1\n",
      "  Using cached libclang-13.0.0-py2.py3-none-manylinux1_x86_64.whl (14.5 MB)\n",
      "Collecting tensorboard<2.9,>=2.8\n",
      "  Using cached tensorboard-2.8.0-py3-none-any.whl (5.8 MB)\n",
      "Collecting tf-estimator-nightly==2.8.0.dev2021122109\n",
      "  Using cached tf_estimator_nightly-2.8.0.dev2021122109-py2.py3-none-any.whl (462 kB)\n",
      "Collecting absl-py>=0.4.0\n",
      "  Using cached absl_py-1.0.0-py3-none-any.whl (126 kB)\n",
      "Collecting termcolor>=1.1.0\n",
      "  Using cached termcolor-1.1.0-py3-none-any.whl\n",
      "Collecting grpcio<2.0,>=1.24.3\n",
      "  Using cached grpcio-1.44.0-cp38-cp38-manylinux_2_17_x86_64.manylinux2014_x86_64.whl (4.3 MB)\n",
      "Requirement already satisfied: six>=1.12.0 in /opt/conda/lib/python3.8/site-packages (from tensorflow) (1.16.0)\n",
      "Collecting google-pasta>=0.1.1\n",
      "  Using cached google_pasta-0.2.0-py3-none-any.whl (57 kB)\n",
      "Collecting flatbuffers>=1.12\n",
      "  Using cached flatbuffers-2.0-py2.py3-none-any.whl (26 kB)\n",
      "Requirement already satisfied: numpy>=1.20 in /opt/conda/lib/python3.8/site-packages (from tensorflow) (1.22.2)\n",
      "Collecting keras<2.9,>=2.8.0rc0\n",
      "  Using cached keras-2.8.0-py2.py3-none-any.whl (1.4 MB)\n",
      "Collecting keras-preprocessing>=1.1.1\n",
      "  Using cached Keras_Preprocessing-1.1.2-py2.py3-none-any.whl (42 kB)\n",
      "Requirement already satisfied: setuptools in /opt/conda/lib/python3.8/site-packages (from tensorflow) (60.9.3)\n",
      "Collecting opt-einsum>=2.3.2\n",
      "  Using cached opt_einsum-3.3.0-py3-none-any.whl (65 kB)\n",
      "Requirement already satisfied: wheel<1.0,>=0.23.0 in /opt/conda/lib/python3.8/site-packages (from astunparse>=1.6.0->tensorflow) (0.37.1)\n",
      "Collecting tensorboard-data-server<0.7.0,>=0.6.0\n",
      "  Using cached tensorboard_data_server-0.6.1-py3-none-manylinux2010_x86_64.whl (4.9 MB)\n",
      "Collecting google-auth<3,>=1.6.3\n",
      "  Using cached google_auth-2.6.0-py2.py3-none-any.whl (156 kB)\n",
      "Collecting google-auth-oauthlib<0.5,>=0.4.1\n",
      "  Using cached google_auth_oauthlib-0.4.6-py2.py3-none-any.whl (18 kB)\n",
      "Collecting werkzeug>=0.11.15\n",
      "  Using cached Werkzeug-2.0.3-py3-none-any.whl (289 kB)\n",
      "Collecting tensorboard-plugin-wit>=1.6.0\n",
      "  Using cached tensorboard_plugin_wit-1.8.1-py3-none-any.whl (781 kB)\n",
      "Collecting markdown>=2.6.8\n",
      "  Using cached Markdown-3.3.6-py3-none-any.whl (97 kB)\n",
      "Requirement already satisfied: requests<3,>=2.21.0 in /opt/conda/lib/python3.8/site-packages (from tensorboard<2.9,>=2.8->tensorflow) (2.27.1)\n",
      "Collecting pyasn1-modules>=0.2.1\n",
      "  Using cached pyasn1_modules-0.2.8-py2.py3-none-any.whl (155 kB)\n",
      "Collecting rsa<5,>=3.1.4\n",
      "  Using cached rsa-4.8-py3-none-any.whl (39 kB)\n",
      "Collecting cachetools<6.0,>=2.0.0\n",
      "  Using cached cachetools-5.0.0-py3-none-any.whl (9.1 kB)\n",
      "Collecting requests-oauthlib>=0.7.0\n",
      "  Using cached requests_oauthlib-1.3.1-py2.py3-none-any.whl (23 kB)\n",
      "Requirement already satisfied: importlib-metadata>=4.4 in /opt/conda/lib/python3.8/site-packages (from markdown>=2.6.8->tensorboard<2.9,>=2.8->tensorflow) (4.11.2)\n",
      "Requirement already satisfied: zipp>=0.5 in /opt/conda/lib/python3.8/site-packages (from importlib-metadata>=4.4->markdown>=2.6.8->tensorboard<2.9,>=2.8->tensorflow) (3.7.0)\n",
      "Collecting pyasn1<0.5.0,>=0.4.6\n",
      "  Using cached pyasn1-0.4.8-py2.py3-none-any.whl (77 kB)\n",
      "Requirement already satisfied: certifi>=2017.4.17 in /opt/conda/lib/python3.8/site-packages (from requests<3,>=2.21.0->tensorboard<2.9,>=2.8->tensorflow) (2021.10.8)\n",
      "Requirement already satisfied: idna<4,>=2.5 in /opt/conda/lib/python3.8/site-packages (from requests<3,>=2.21.0->tensorboard<2.9,>=2.8->tensorflow) (3.3)\n",
      "Requirement already satisfied: charset-normalizer~=2.0.0 in /opt/conda/lib/python3.8/site-packages (from requests<3,>=2.21.0->tensorboard<2.9,>=2.8->tensorflow) (2.0.12)\n",
      "Requirement already satisfied: urllib3<1.27,>=1.21.1 in /opt/conda/lib/python3.8/site-packages (from requests<3,>=2.21.0->tensorboard<2.9,>=2.8->tensorflow) (1.26.8)\n",
      "Requirement already satisfied: oauthlib>=3.0.0 in /opt/conda/lib/python3.8/site-packages (from requests-oauthlib>=0.7.0->google-auth-oauthlib<0.5,>=0.4.1->tensorboard<2.9,>=2.8->tensorflow) (3.2.0)\n",
      "Installing collected packages: pyasn1, rsa, pyasn1-modules, cachetools, requests-oauthlib, google-auth, werkzeug, tensorboard-plugin-wit, tensorboard-data-server, markdown, grpcio, google-auth-oauthlib, absl-py, wrapt, tf-estimator-nightly, termcolor, tensorflow-io-gcs-filesystem, tensorboard, opt-einsum, libclang, keras-preprocessing, keras, google-pasta, gast, flatbuffers, astunparse, tensorflow\n",
      "Successfully installed absl-py-1.0.0 astunparse-1.6.3 cachetools-5.0.0 flatbuffers-2.0 gast-0.5.3 google-auth-2.6.0 google-auth-oauthlib-0.4.6 google-pasta-0.2.0 grpcio-1.44.0 keras-2.8.0 keras-preprocessing-1.1.2 libclang-13.0.0 markdown-3.3.6 opt-einsum-3.3.0 pyasn1-0.4.8 pyasn1-modules-0.2.8 requests-oauthlib-1.3.1 rsa-4.8 tensorboard-2.8.0 tensorboard-data-server-0.6.1 tensorboard-plugin-wit-1.8.1 tensorflow-2.8.0 tensorflow-io-gcs-filesystem-0.24.0 termcolor-1.1.0 tf-estimator-nightly-2.8.0.dev2021122109 werkzeug-2.0.3 wrapt-1.13.3\n"
     ]
    }
   ],
   "source": [
    "!pip install tensorflow"
   ]
  },
  {
   "cell_type": "code",
   "execution_count": 5,
   "metadata": {},
   "outputs": [
    {
     "name": "stdout",
     "output_type": "stream",
     "text": [
      "Requirement already satisfied: keras in /opt/conda/lib/python3.8/site-packages (2.8.0)\n"
     ]
    }
   ],
   "source": [
    "!pip install keras"
   ]
  },
  {
   "cell_type": "code",
   "execution_count": 6,
   "metadata": {},
   "outputs": [
    {
     "name": "stderr",
     "output_type": "stream",
     "text": [
      "2022-03-07 08:32:04.629420: W tensorflow/stream_executor/platform/default/dso_loader.cc:64] Could not load dynamic library 'libcudart.so.11.0'; dlerror: libcudart.so.11.0: cannot open shared object file: No such file or directory\n",
      "2022-03-07 08:32:04.629459: I tensorflow/stream_executor/cuda/cudart_stub.cc:29] Ignore above cudart dlerror if you do not have a GPU set up on your machine.\n"
     ]
    }
   ],
   "source": [
    "#Import library and dependencies\n",
    "import keras\n",
    "import numpy as np\n",
    "import pandas as pd\n",
    "import seaborn as sns\n",
    "import matplotlib.pyplot as plt\n",
    "from sklearn.metrics import classification_report\n",
    "from sklearn.model_selection import train_test_split\n",
    "from sklearn.metrics import f1_score\n",
    "from sklearn.metrics import confusion_matrix\n",
    "from keras.utils.np_utils import to_categorical\n",
    "#from tensorflow.keras.utils import to_categorical\n",
    "from tensorflow.keras import layers\n",
    "from tensorflow.keras import regularizers\n",
    "from keras.regularizers import l2, l1\n",
    "from sklearn.utils import class_weight\n",
    "import tensorflow as tf\n",
    "from tensorflow.keras.datasets import mnist\n",
    "from tensorflow.keras.layers import Dense, Dropout, Input\n",
    "from tensorflow.keras.models import Model\n",
    "from tensorflow.keras.optimizers import RMSprop\n",
    "import tensorflow.keras.backend as K\n",
    "import numpy as np"
   ]
  },
  {
   "cell_type": "code",
   "execution_count": 7,
   "metadata": {},
   "outputs": [],
   "source": [
    "import pandas as pd\n",
    "scaler1.fit(datafile_1)\n",
    "scaler2.fit(datafile_1)\n",
    "scaler_datafile_1 = scaler1.transform(datafile_1)\n",
    "xtrain  =scaler_datafile_1[:,0:4]\n",
    "ytrain = scaler_datafile_1[:,4:5]\n",
    "dataframe1 = pd.DataFrame(xtrain)\n",
    "dataframe2 = pd.DataFrame(ytrain)\n",
    "original = pd.concat([dataframe1, dataframe2], axis=1)\n"
   ]
  },
  {
   "cell_type": "code",
   "execution_count": 8,
   "metadata": {},
   "outputs": [
    {
     "name": "stderr",
     "output_type": "stream",
     "text": [
      "2022-03-07 08:32:06.952742: W tensorflow/stream_executor/platform/default/dso_loader.cc:64] Could not load dynamic library 'libcuda.so.1'; dlerror: libcuda.so.1: cannot open shared object file: No such file or directory\n",
      "2022-03-07 08:32:06.952790: W tensorflow/stream_executor/cuda/cuda_driver.cc:269] failed call to cuInit: UNKNOWN ERROR (303)\n",
      "2022-03-07 08:32:06.952823: I tensorflow/stream_executor/cuda/cuda_diagnostics.cc:156] kernel driver does not appear to be running on this host (jupyter-5fe83f23338291001a17ec35): /proc/driver/nvidia/version does not exist\n",
      "2022-03-07 08:32:06.953071: I tensorflow/core/platform/cpu_feature_guard.cc:151] This TensorFlow binary is optimized with oneAPI Deep Neural Network Library (oneDNN) to use the following CPU instructions in performance-critical operations:  AVX2 FMA\n",
      "To enable them in other operations, rebuild TensorFlow with the appropriate compiler flags.\n"
     ]
    },
    {
     "name": "stdout",
     "output_type": "stream",
     "text": [
      "466/466 [==============================] - 2s 4ms/step - loss: 0.0191 - accuracy: 0.8379\n",
      "end_time:  1646641929.4933488\n",
      "time taken to train in sec:  2.5610158443450928\n"
     ]
    }
   ],
   "source": [
    "#Autoencoder model\n",
    "from keras.models import Model\n",
    "from keras.layers import Dense, Input\n",
    "start_time = time.time()\n",
    "from keras import models\n",
    "from keras import layers\n",
    "from keras import regularizers\n",
    "import numpy as np\n",
    "import matplotlib.pyplot as plt\n",
    "%matplotlib inline\n",
    "\n",
    "#Autoencoder model with denoising model\n",
    "from keras.models import Model\n",
    "from keras.layers import Dense, Input\n",
    "start_time = time.time()\n",
    "from keras import models\n",
    "from keras import layers\n",
    "from tensorflow import keras\n",
    "from keras import regularizers\n",
    "import numpy as np\n",
    "import matplotlib.pyplot as plt\n",
    "\n",
    "%matplotlib inline\n",
    "input = Input(shape=(5,))\n",
    "\n",
    "encoded = layers.Dense(64, activation='relu')(input)\n",
    "encoded = layers.Dense(12, activation='relu')(encoded)\n",
    "decoded = layers.Dense(12, activation='relu')(encoded)\n",
    "decoded = layers.Dense(64, activation='relu')(decoded)\n",
    "\n",
    "decoded = layers.Dense(5, activation='sigmoid')(decoded)\n",
    "autoencoder=Model(input, decoded)\n",
    "encoder = Model(input, encoded)\n",
    "opt = keras.optimizers.Adam(learning_rate=0.01)\n",
    "autoencoder.compile(optimizer='adam',loss='mse',metrics=['accuracy'])\n",
    "\n",
    "history = autoencoder.fit(original,original, epochs=50, batch_size=256) #, validation_data=(originalval, originalval))\n",
    "end_time = time.time()\n",
    "print('end_time: ', end_time)\n",
    "print('time taken to train in sec: ', (end_time - start_time))"
   ]
  },
  {
   "cell_type": "code",
   "execution_count": 9,
   "metadata": {},
   "outputs": [],
   "source": [
    "augmented = autoencoder.predict(original)\n",
    "#augmentedval = autoencoder.predict(originalval)\n",
    "Xaugtrain1000 = augmented[:,range(0,4)]\n",
    "yaugtrain1000 = augmented[:,range(4,5)]\n",
    "#Xaugval1000 = augmentedval[:,range(0,12)]\n",
    "#yaugval1000 = augmentedval[:,range(12,17)]"
   ]
  },
  {
   "cell_type": "code",
   "execution_count": 10,
   "metadata": {},
   "outputs": [
    {
     "name": "stdout",
     "output_type": "stream",
     "text": [
      "Epoch 1/50\n",
      "466/466 [==============================] - 4s 7ms/step - loss: 0.0077 - accuracy: 0.8807\n",
      "Epoch 2/50\n",
      "466/466 [==============================] - 3s 6ms/step - loss: 2.6054e-04 - accuracy: 0.9207\n",
      "Epoch 3/50\n",
      "466/466 [==============================] - 3s 6ms/step - loss: 1.6361e-04 - accuracy: 0.9179\n",
      "Epoch 4/50\n",
      "466/466 [==============================] - 3s 6ms/step - loss: 1.0826e-04 - accuracy: 0.9325\n",
      "Epoch 5/50\n",
      "466/466 [==============================] - 3s 7ms/step - loss: 9.0388e-05 - accuracy: 0.9654\n",
      "Epoch 6/50\n",
      "466/466 [==============================] - 3s 6ms/step - loss: 7.2340e-05 - accuracy: 0.9726\n",
      "Epoch 7/50\n",
      "466/466 [==============================] - 3s 6ms/step - loss: 7.5176e-05 - accuracy: 0.9736\n",
      "Epoch 8/50\n",
      "466/466 [==============================] - 3s 6ms/step - loss: 5.5801e-05 - accuracy: 0.9706\n",
      "Epoch 9/50\n",
      "466/466 [==============================] - 3s 6ms/step - loss: 5.6716e-05 - accuracy: 0.9688\n",
      "Epoch 10/50\n",
      "466/466 [==============================] - 3s 6ms/step - loss: 5.1433e-05 - accuracy: 0.9638\n",
      "Epoch 11/50\n",
      "466/466 [==============================] - 3s 6ms/step - loss: 4.8679e-05 - accuracy: 0.9588\n",
      "Epoch 12/50\n",
      "466/466 [==============================] - 3s 6ms/step - loss: 5.5515e-05 - accuracy: 0.9558\n",
      "Epoch 13/50\n",
      "466/466 [==============================] - 3s 6ms/step - loss: 4.2943e-05 - accuracy: 0.9413\n",
      "Epoch 14/50\n",
      "466/466 [==============================] - 3s 6ms/step - loss: 4.4145e-05 - accuracy: 0.9303\n",
      "Epoch 15/50\n",
      "466/466 [==============================] - 3s 7ms/step - loss: 3.8512e-05 - accuracy: 0.9277\n",
      "Epoch 16/50\n",
      "466/466 [==============================] - 3s 6ms/step - loss: 3.9275e-05 - accuracy: 0.9282\n",
      "Epoch 17/50\n",
      "466/466 [==============================] - 3s 7ms/step - loss: 3.2224e-05 - accuracy: 0.9187\n",
      "Epoch 18/50\n",
      "466/466 [==============================] - 3s 6ms/step - loss: 3.6111e-05 - accuracy: 0.8904\n",
      "Epoch 19/50\n",
      "466/466 [==============================] - 3s 6ms/step - loss: 3.2166e-05 - accuracy: 0.8958\n",
      "Epoch 20/50\n",
      "466/466 [==============================] - 3s 6ms/step - loss: 3.0571e-05 - accuracy: 0.9038\n",
      "Epoch 21/50\n",
      "466/466 [==============================] - 3s 6ms/step - loss: 3.7135e-05 - accuracy: 0.8781\n",
      "Epoch 22/50\n",
      "466/466 [==============================] - 3s 7ms/step - loss: 3.7571e-05 - accuracy: 0.8958\n",
      "Epoch 23/50\n",
      "466/466 [==============================] - 3s 6ms/step - loss: 2.8428e-05 - accuracy: 0.9213\n",
      "Epoch 24/50\n",
      "466/466 [==============================] - 3s 6ms/step - loss: 2.2767e-05 - accuracy: 0.9085\n",
      "Epoch 25/50\n",
      "466/466 [==============================] - 3s 6ms/step - loss: 2.7132e-05 - accuracy: 0.9080\n",
      "Epoch 26/50\n",
      "466/466 [==============================] - 3s 6ms/step - loss: 3.2195e-05 - accuracy: 0.9041\n",
      "Epoch 27/50\n",
      "466/466 [==============================] - 3s 6ms/step - loss: 2.4843e-05 - accuracy: 0.9052\n",
      "Epoch 28/50\n",
      "466/466 [==============================] - 3s 6ms/step - loss: 2.9190e-05 - accuracy: 0.9171\n",
      "Epoch 29/50\n",
      "466/466 [==============================] - 3s 6ms/step - loss: 2.4078e-05 - accuracy: 0.9129\n",
      "Epoch 30/50\n",
      "466/466 [==============================] - 3s 6ms/step - loss: 2.8199e-05 - accuracy: 0.9008\n",
      "Epoch 31/50\n",
      "466/466 [==============================] - 3s 6ms/step - loss: 2.5323e-05 - accuracy: 0.9006\n",
      "Epoch 32/50\n",
      "466/466 [==============================] - 3s 7ms/step - loss: 2.2742e-05 - accuracy: 0.9043\n",
      "Epoch 33/50\n",
      "466/466 [==============================] - 3s 6ms/step - loss: 2.2786e-05 - accuracy: 0.9126\n",
      "Epoch 34/50\n",
      "466/466 [==============================] - 3s 6ms/step - loss: 2.6024e-05 - accuracy: 0.9030\n",
      "Epoch 35/50\n",
      "466/466 [==============================] - 3s 6ms/step - loss: 2.3213e-05 - accuracy: 0.9055\n",
      "Epoch 36/50\n",
      "466/466 [==============================] - 3s 6ms/step - loss: 2.3387e-05 - accuracy: 0.9060\n",
      "Epoch 37/50\n",
      "466/466 [==============================] - 3s 6ms/step - loss: 2.2888e-05 - accuracy: 0.9007\n",
      "Epoch 38/50\n",
      "466/466 [==============================] - 3s 7ms/step - loss: 2.5232e-05 - accuracy: 0.9111\n",
      "Epoch 39/50\n",
      "466/466 [==============================] - 3s 6ms/step - loss: 2.0615e-05 - accuracy: 0.9073\n",
      "Epoch 40/50\n",
      "466/466 [==============================] - 3s 6ms/step - loss: 2.1940e-05 - accuracy: 0.9028\n",
      "Epoch 41/50\n",
      "466/466 [==============================] - 3s 6ms/step - loss: 2.0803e-05 - accuracy: 0.9011\n",
      "Epoch 42/50\n",
      "466/466 [==============================] - 3s 7ms/step - loss: 2.0438e-05 - accuracy: 0.8975\n",
      "Epoch 43/50\n",
      "466/466 [==============================] - 3s 6ms/step - loss: 2.6436e-05 - accuracy: 0.8945\n",
      "Epoch 44/50\n",
      "466/466 [==============================] - 3s 6ms/step - loss: 2.0206e-05 - accuracy: 0.8964\n",
      "Epoch 45/50\n",
      "466/466 [==============================] - 3s 6ms/step - loss: 1.8833e-05 - accuracy: 0.8955\n",
      "Epoch 46/50\n",
      "466/466 [==============================] - 3s 7ms/step - loss: 2.2587e-05 - accuracy: 0.8881\n",
      "Epoch 47/50\n",
      "466/466 [==============================] - 3s 7ms/step - loss: 2.3484e-05 - accuracy: 0.8937\n",
      "Epoch 48/50\n",
      "466/466 [==============================] - 3s 6ms/step - loss: 1.6736e-05 - accuracy: 0.8933\n",
      "Epoch 49/50\n",
      "466/466 [==============================] - 3s 6ms/step - loss: 2.7346e-05 - accuracy: 0.8940\n",
      "Epoch 50/50\n",
      "466/466 [==============================] - 3s 6ms/step - loss: 1.3910e-05 - accuracy: 0.8927\n",
      "end_time:  1646642087.898282\n",
      "time taken to train in sec:  160.96594905853271\n"
     ]
    }
   ],
   "source": [
    "\n",
    "%matplotlib inline\n",
    "input = Input(shape=(5,))\n",
    "#encoded = layers.Dense(1470, activation='relu')(input)\n",
    "#encoded = layers.Dense(512, activation='relu')(input)\n",
    "#encoded = layers.Dense(128, activation='relu')(encoded)\n",
    "encoded = layers.Dense(128, activation='relu')(input)\n",
    "encoded = layers.Dense(64, activation='relu')(encoded)\n",
    "decoded = layers.Dense(64, activation='relu')(encoded)\n",
    "decoded = layers.Dense(128, activation='relu')(decoded)\n",
    "#decoded = layers.Dense(128, activation='relu')(decoded)\n",
    "#decoded = layers.Dense(512, activation='relu')(decoded)\n",
    "#decoded = layers.Dense(1470, activation='relu')(decoded)\n",
    "decoded = layers.Dense(5, activation='sigmoid')(decoded)\n",
    "autoencoder1=Model(input, decoded)\n",
    "encoder = Model(input, encoded)\n",
    "opt = keras.optimizers.Adam(learning_rate=0.01)\n",
    "autoencoder1.compile(optimizer='adam',loss='mse',metrics=['accuracy'])\n",
    "#autoencoder.summary()\n",
    "#Augment the X_train dataset \n",
    "history = autoencoder1.fit(original,original, epochs=50, batch_size=256) #, validation_data=(originalval, originalval))\n",
    "end_time = time.time()\n",
    "print('end_time: ', end_time)\n",
    "print('time taken to train in sec: ', (end_time - start_time))"
   ]
  },
  {
   "cell_type": "code",
   "execution_count": 11,
   "metadata": {},
   "outputs": [],
   "source": [
    "augmented1 = autoencoder1.predict(original)\n",
    "#augmentedval = autoencoder.predict(originalval)\n",
    "Xaugtrain10001 = augmented1[:,range(0,4)]\n",
    "yaugtrain10001 = augmented1[:,range(4,5)]\n",
    "#Xaugval1000 = augmentedval[:,range(0,12)]\n",
    "#yaugval1000 = augmentedval[:,range(12,17)]"
   ]
  },
  {
   "cell_type": "code",
   "execution_count": 17,
   "metadata": {},
   "outputs": [
    {
     "data": {
      "text/plain": [
       "[<matplotlib.lines.Line2D at 0x7f3672408160>,\n",
       " <matplotlib.lines.Line2D at 0x7f36724081c0>,\n",
       " <matplotlib.lines.Line2D at 0x7f36724082e0>,\n",
       " <matplotlib.lines.Line2D at 0x7f3672408400>,\n",
       " <matplotlib.lines.Line2D at 0x7f3672408520>]"
      ]
     },
     "execution_count": 17,
     "metadata": {},
     "output_type": "execute_result"
    },
    {
     "data": {
      "image/png": "[encoded data removed]",
      "text/plain": [
       "<Figure size 432x288 with 1 Axes>"
      ]
     },
     "metadata": {
      "needs_background": "light"
     },
     "output_type": "display_data"
    }
   ],
   "source": [
    "plt.plot(augmented[:])"
   ]
  },
  {
   "cell_type": "code",
   "execution_count": 12,
   "metadata": {},
   "outputs": [],
   "source": [
    "originalappended = np.concatenate([original, augmented, augmented1], axis=0)"
   ]
  },
  {
   "cell_type": "code",
   "execution_count": 13,
   "metadata": {},
   "outputs": [
    {
     "name": "stdout",
     "output_type": "stream",
     "text": [
      "(357432, 5)\n"
     ]
    }
   ],
   "source": [
    "print(originalappended.shape)"
   ]
  },
  {
   "cell_type": "code",
   "execution_count": 20,
   "metadata": {},
   "outputs": [
    {
     "data": {
      "text/plain": [
       "[<matplotlib.lines.Line2D at 0x7f36723f6f70>,\n",
       " <matplotlib.lines.Line2D at 0x7f36723f6fd0>,\n",
       " <matplotlib.lines.Line2D at 0x7f3672383130>,\n",
       " <matplotlib.lines.Line2D at 0x7f3672383250>,\n",
       " <matplotlib.lines.Line2D at 0x7f3672383370>]"
      ]
     },
     "execution_count": 20,
     "metadata": {},
     "output_type": "execute_result"
    },
    {
     "data": {
      "image/png": "[encoded data removed]",
      "text/plain": [
       "<Figure size 432x288 with 1 Axes>"
      ]
     },
     "metadata": {
      "needs_background": "light"
     },
     "output_type": "display_data"
    }
   ],
   "source": [
    "plt.plot(originalappended[:])"
   ]
  },
  {
   "cell_type": "code",
   "execution_count": 14,
   "metadata": {},
   "outputs": [],
   "source": [
    "xtrain11  =originalappended[:,0:4]\n",
    "ytrain11 = originalappended[:,4:5]\n",
    "from scipy import signal\n",
    "ytrainsmall = signal.resample_poly(ytrain11, 100, 15000)\n",
    "xtrainsmall = signal.resample_poly(xtrain11, 100, 15000)"
   ]
  },
  {
   "cell_type": "code",
   "execution_count": 22,
   "metadata": {},
   "outputs": [
    {
     "name": "stdout",
     "output_type": "stream",
     "text": [
      "(2383, 4)\n"
     ]
    }
   ],
   "source": [
    "print(xtrainsmall.shape)"
   ]
  },
  {
   "cell_type": "code",
   "execution_count": null,
   "metadata": {},
   "outputs": [],
   "source": []
  },
  {
   "cell_type": "code",
   "execution_count": 23,
   "metadata": {},
   "outputs": [],
   "source": [
    "X1 = (xtrainsmall)[:,3]"
   ]
  },
  {
   "cell_type": "code",
   "execution_count": 24,
   "metadata": {},
   "outputs": [
    {
     "data": {
      "text/plain": [
       "[<matplotlib.lines.Line2D at 0x7f36723727f0>]"
      ]
     },
     "execution_count": 24,
     "metadata": {},
     "output_type": "execute_result"
    },
    {
     "data": {
      "image/png": "[encoded data removed]",
      "text/plain": [
       "<Figure size 432x288 with 1 Axes>"
      ]
     },
     "metadata": {
      "needs_background": "light"
     },
     "output_type": "display_data"
    }
   ],
   "source": [
    "plt.plot(X1[1668:],'darkorange',linewidth=3)"
   ]
  },
  {
   "cell_type": "code",
   "execution_count": 15,
   "metadata": {
    "colab": {
     "base_uri": "https://localhost:8080/"
    },
    "id": "1_QLgSFFHulu",
    "outputId": "2c61c243-4d53-481e-9a65-11d518d75bd2"
   },
   "outputs": [
    {
     "name": "stdout",
     "output_type": "stream",
     "text": [
      "Collecting pennylane\n",
      "  Using cached PennyLane-0.21.0-py3-none-any.whl (800 kB)\n",
      "Collecting autograd\n",
      "  Using cached autograd-1.3-py3-none-any.whl\n",
      "Requirement already satisfied: retworkx in /opt/conda/lib/python3.8/site-packages (from pennylane) (0.11.0)\n",
      "Requirement already satisfied: cachetools in /opt/conda/lib/python3.8/site-packages (from pennylane) (5.0.0)\n",
      "Collecting pennylane-lightning>=0.21\n",
      "  Using cached PennyLane_Lightning-0.21.0-cp38-cp38-manylinux_2_17_x86_64.manylinux2014_x86_64.whl (7.8 MB)\n",
      "Requirement already satisfied: networkx in /opt/conda/lib/python3.8/site-packages (from pennylane) (2.7)\n",
      "Collecting semantic-version==2.6\n",
      "  Using cached semantic_version-2.6.0-py3-none-any.whl (14 kB)\n",
      "Collecting autoray\n",
      "  Using cached autoray-0.2.5-py3-none-any.whl (16 kB)\n",
      "Requirement already satisfied: scipy in /opt/conda/lib/python3.8/site-packages (from pennylane) (1.8.0)\n",
      "Requirement already satisfied: appdirs in /opt/conda/lib/python3.8/site-packages (from pennylane) (1.4.4)\n",
      "Requirement already satisfied: numpy in /opt/conda/lib/python3.8/site-packages (from pennylane) (1.22.2)\n",
      "Requirement already satisfied: toml in /opt/conda/lib/python3.8/site-packages (from pennylane) (0.10.2)\n",
      "Collecting ninja\n",
      "  Using cached ninja-1.10.2.3-py2.py3-none-manylinux_2_5_x86_64.manylinux1_x86_64.whl (108 kB)\n",
      "Requirement already satisfied: future>=0.15.2 in /opt/conda/lib/python3.8/site-packages (from autograd->pennylane) (0.18.2)\n",
      "Installing collected packages: ninja, semantic-version, pennylane-lightning, autoray, autograd, pennylane\n",
      "Successfully installed autograd-1.3 autoray-0.2.5 ninja-1.10.2.3 pennylane-0.21.0 pennylane-lightning-0.21.0 semantic-version-2.6.0\n",
      "Note: you may need to restart the kernel to use updated packages.\n"
     ]
    }
   ],
   "source": [
    "pip install pennylane"
   ]
  },
  {
   "cell_type": "code",
   "execution_count": 16,
   "metadata": {
    "colab": {
     "base_uri": "https://localhost:8080/"
    },
    "id": "szaDTTLYM06L",
    "outputId": "7701da75-1a5a-4c44-f9a7-a03dd78fc0b4"
   },
   "outputs": [
    {
     "name": "stdout",
     "output_type": "stream",
     "text": [
      "Requirement already satisfied: tensorflow in /opt/conda/lib/python3.8/site-packages (2.8.0)\n",
      "Requirement already satisfied: numpy>=1.20 in /opt/conda/lib/python3.8/site-packages (from tensorflow) (1.22.2)\n",
      "Requirement already satisfied: libclang>=9.0.1 in /opt/conda/lib/python3.8/site-packages (from tensorflow) (13.0.0)\n",
      "Requirement already satisfied: setuptools in /opt/conda/lib/python3.8/site-packages (from tensorflow) (60.9.3)\n",
      "Requirement already satisfied: grpcio<2.0,>=1.24.3 in /opt/conda/lib/python3.8/site-packages (from tensorflow) (1.44.0)\n",
      "Requirement already satisfied: tf-estimator-nightly==2.8.0.dev2021122109 in /opt/conda/lib/python3.8/site-packages (from tensorflow) (2.8.0.dev2021122109)\n",
      "Requirement already satisfied: protobuf>=3.9.2 in /opt/conda/lib/python3.8/site-packages (from tensorflow) (3.14.0)\n",
      "Requirement already satisfied: flatbuffers>=1.12 in /opt/conda/lib/python3.8/site-packages (from tensorflow) (2.0)\n",
      "Requirement already satisfied: gast>=0.2.1 in /opt/conda/lib/python3.8/site-packages (from tensorflow) (0.5.3)\n",
      "Requirement already satisfied: tensorboard<2.9,>=2.8 in /opt/conda/lib/python3.8/site-packages (from tensorflow) (2.8.0)\n",
      "Requirement already satisfied: termcolor>=1.1.0 in /opt/conda/lib/python3.8/site-packages (from tensorflow) (1.1.0)\n",
      "Requirement already satisfied: tensorflow-io-gcs-filesystem>=0.23.1 in /opt/conda/lib/python3.8/site-packages (from tensorflow) (0.24.0)\n",
      "Requirement already satisfied: opt-einsum>=2.3.2 in /opt/conda/lib/python3.8/site-packages (from tensorflow) (3.3.0)\n",
      "Requirement already satisfied: keras-preprocessing>=1.1.1 in /opt/conda/lib/python3.8/site-packages (from tensorflow) (1.1.2)\n",
      "Requirement already satisfied: absl-py>=0.4.0 in /opt/conda/lib/python3.8/site-packages (from tensorflow) (1.0.0)\n",
      "Requirement already satisfied: keras<2.9,>=2.8.0rc0 in /opt/conda/lib/python3.8/site-packages (from tensorflow) (2.8.0)\n",
      "Requirement already satisfied: six>=1.12.0 in /opt/conda/lib/python3.8/site-packages (from tensorflow) (1.16.0)\n",
      "Requirement already satisfied: google-pasta>=0.1.1 in /opt/conda/lib/python3.8/site-packages (from tensorflow) (0.2.0)\n",
      "Requirement already satisfied: typing-extensions>=3.6.6 in /opt/conda/lib/python3.8/site-packages (from tensorflow) (4.1.1)\n",
      "Requirement already satisfied: wrapt>=1.11.0 in /opt/conda/lib/python3.8/site-packages (from tensorflow) (1.13.3)\n",
      "Requirement already satisfied: h5py>=2.9.0 in /opt/conda/lib/python3.8/site-packages (from tensorflow) (3.6.0)\n",
      "Requirement already satisfied: astunparse>=1.6.0 in /opt/conda/lib/python3.8/site-packages (from tensorflow) (1.6.3)\n",
      "Requirement already satisfied: wheel<1.0,>=0.23.0 in /opt/conda/lib/python3.8/site-packages (from astunparse>=1.6.0->tensorflow) (0.37.1)\n",
      "Requirement already satisfied: google-auth-oauthlib<0.5,>=0.4.1 in /opt/conda/lib/python3.8/site-packages (from tensorboard<2.9,>=2.8->tensorflow) (0.4.6)\n",
      "Requirement already satisfied: werkzeug>=0.11.15 in /opt/conda/lib/python3.8/site-packages (from tensorboard<2.9,>=2.8->tensorflow) (2.0.3)\n",
      "Requirement already satisfied: tensorboard-plugin-wit>=1.6.0 in /opt/conda/lib/python3.8/site-packages (from tensorboard<2.9,>=2.8->tensorflow) (1.8.1)\n",
      "Requirement already satisfied: markdown>=2.6.8 in /opt/conda/lib/python3.8/site-packages (from tensorboard<2.9,>=2.8->tensorflow) (3.3.6)\n",
      "Requirement already satisfied: requests<3,>=2.21.0 in /opt/conda/lib/python3.8/site-packages (from tensorboard<2.9,>=2.8->tensorflow) (2.27.1)\n",
      "Requirement already satisfied: tensorboard-data-server<0.7.0,>=0.6.0 in /opt/conda/lib/python3.8/site-packages (from tensorboard<2.9,>=2.8->tensorflow) (0.6.1)\n",
      "Requirement already satisfied: google-auth<3,>=1.6.3 in /opt/conda/lib/python3.8/site-packages (from tensorboard<2.9,>=2.8->tensorflow) (2.6.0)\n",
      "Requirement already satisfied: rsa<5,>=3.1.4 in /opt/conda/lib/python3.8/site-packages (from google-auth<3,>=1.6.3->tensorboard<2.9,>=2.8->tensorflow) (4.8)\n",
      "Requirement already satisfied: pyasn1-modules>=0.2.1 in /opt/conda/lib/python3.8/site-packages (from google-auth<3,>=1.6.3->tensorboard<2.9,>=2.8->tensorflow) (0.2.8)\n",
      "Requirement already satisfied: cachetools<6.0,>=2.0.0 in /opt/conda/lib/python3.8/site-packages (from google-auth<3,>=1.6.3->tensorboard<2.9,>=2.8->tensorflow) (5.0.0)\n",
      "Requirement already satisfied: requests-oauthlib>=0.7.0 in /opt/conda/lib/python3.8/site-packages (from google-auth-oauthlib<0.5,>=0.4.1->tensorboard<2.9,>=2.8->tensorflow) (1.3.1)\n",
      "Requirement already satisfied: importlib-metadata>=4.4 in /opt/conda/lib/python3.8/site-packages (from markdown>=2.6.8->tensorboard<2.9,>=2.8->tensorflow) (4.11.2)\n",
      "Requirement already satisfied: zipp>=0.5 in /opt/conda/lib/python3.8/site-packages (from importlib-metadata>=4.4->markdown>=2.6.8->tensorboard<2.9,>=2.8->tensorflow) (3.7.0)\n",
      "Requirement already satisfied: pyasn1<0.5.0,>=0.4.6 in /opt/conda/lib/python3.8/site-packages (from pyasn1-modules>=0.2.1->google-auth<3,>=1.6.3->tensorboard<2.9,>=2.8->tensorflow) (0.4.8)\n",
      "Requirement already satisfied: charset-normalizer~=2.0.0 in /opt/conda/lib/python3.8/site-packages (from requests<3,>=2.21.0->tensorboard<2.9,>=2.8->tensorflow) (2.0.12)\n",
      "Requirement already satisfied: urllib3<1.27,>=1.21.1 in /opt/conda/lib/python3.8/site-packages (from requests<3,>=2.21.0->tensorboard<2.9,>=2.8->tensorflow) (1.26.8)\n",
      "Requirement already satisfied: certifi>=2017.4.17 in /opt/conda/lib/python3.8/site-packages (from requests<3,>=2.21.0->tensorboard<2.9,>=2.8->tensorflow) (2021.10.8)\n",
      "Requirement already satisfied: idna<4,>=2.5 in /opt/conda/lib/python3.8/site-packages (from requests<3,>=2.21.0->tensorboard<2.9,>=2.8->tensorflow) (3.3)\n",
      "Requirement already satisfied: oauthlib>=3.0.0 in /opt/conda/lib/python3.8/site-packages (from requests-oauthlib>=0.7.0->google-auth-oauthlib<0.5,>=0.4.1->tensorboard<2.9,>=2.8->tensorflow) (3.2.0)\n"
     ]
    }
   ],
   "source": [
    "!pip install tensorflow"
   ]
  },
  {
   "cell_type": "code",
   "execution_count": 17,
   "metadata": {
    "id": "SYeT0q6SHupE"
   },
   "outputs": [],
   "source": [
    "import tensorflow as tf"
   ]
  },
  {
   "cell_type": "code",
   "execution_count": 18,
   "metadata": {},
   "outputs": [
    {
     "name": "stdout",
     "output_type": "stream",
     "text": [
      "Collecting PennyLane-Forest\n",
      "  Using cached PennyLane_Forest-0.20.0-py3-none-any.whl (27 kB)\n",
      "Collecting pyquil<2.28.3,>=2.16\n",
      "  Using cached pyquil-2.28.2-py3-none-any.whl\n",
      "Requirement already satisfied: pennylane>=0.17 in /opt/conda/lib/python3.8/site-packages (from PennyLane-Forest) (0.21.0)\n",
      "Requirement already satisfied: scipy in /opt/conda/lib/python3.8/site-packages (from pennylane>=0.17->PennyLane-Forest) (1.8.0)\n",
      "Requirement already satisfied: autoray in /opt/conda/lib/python3.8/site-packages (from pennylane>=0.17->PennyLane-Forest) (0.2.5)\n",
      "Requirement already satisfied: pennylane-lightning>=0.21 in /opt/conda/lib/python3.8/site-packages (from pennylane>=0.17->PennyLane-Forest) (0.21.0)\n",
      "Requirement already satisfied: semantic-version==2.6 in /opt/conda/lib/python3.8/site-packages (from pennylane>=0.17->PennyLane-Forest) (2.6.0)\n",
      "Requirement already satisfied: cachetools in /opt/conda/lib/python3.8/site-packages (from pennylane>=0.17->PennyLane-Forest) (5.0.0)\n",
      "Requirement already satisfied: numpy in /opt/conda/lib/python3.8/site-packages (from pennylane>=0.17->PennyLane-Forest) (1.22.2)\n",
      "Requirement already satisfied: networkx in /opt/conda/lib/python3.8/site-packages (from pennylane>=0.17->PennyLane-Forest) (2.7)\n",
      "Requirement already satisfied: appdirs in /opt/conda/lib/python3.8/site-packages (from pennylane>=0.17->PennyLane-Forest) (1.4.4)\n",
      "Requirement already satisfied: autograd in /opt/conda/lib/python3.8/site-packages (from pennylane>=0.17->PennyLane-Forest) (1.3)\n",
      "Requirement already satisfied: retworkx in /opt/conda/lib/python3.8/site-packages (from pennylane>=0.17->PennyLane-Forest) (0.11.0)\n",
      "Requirement already satisfied: toml in /opt/conda/lib/python3.8/site-packages (from pennylane>=0.17->PennyLane-Forest) (0.10.2)\n",
      "Requirement already satisfied: ninja in /opt/conda/lib/python3.8/site-packages (from pennylane-lightning>=0.21->pennylane>=0.17->PennyLane-Forest) (1.10.2.3)\n",
      "Collecting lark\n",
      "  Using cached lark-1.1.2-py2.py3-none-any.whl (104 kB)\n",
      "Collecting rpcq>=3.6.0\n",
      "  Using cached rpcq-3.9.2-py3-none-any.whl\n",
      "Collecting immutables==0.6\n",
      "  Using cached immutables-0.6-cp38-cp38-linux_x86_64.whl\n",
      "Requirement already satisfied: requests in /opt/conda/lib/python3.8/site-packages (from pyquil<2.28.3,>=2.16->PennyLane-Forest) (2.27.1)\n",
      "Requirement already satisfied: pyzmq>=17 in /opt/conda/lib/python3.8/site-packages (from rpcq>=3.6.0->pyquil<2.28.3,>=2.16->PennyLane-Forest) (22.3.0)\n",
      "Collecting msgpack<1.0,>=0.6\n",
      "  Using cached msgpack-0.6.2-cp38-cp38-linux_x86_64.whl\n",
      "Requirement already satisfied: ruamel.yaml in /opt/conda/lib/python3.8/site-packages (from rpcq>=3.6.0->pyquil<2.28.3,>=2.16->PennyLane-Forest) (0.17.21)\n",
      "Collecting python-rapidjson\n",
      "  Using cached python_rapidjson-1.6-cp38-cp38-manylinux_2_17_x86_64.manylinux2014_x86_64.whl (1.6 MB)\n",
      "Requirement already satisfied: future>=0.15.2 in /opt/conda/lib/python3.8/site-packages (from autograd->pennylane>=0.17->PennyLane-Forest) (0.18.2)\n",
      "Requirement already satisfied: idna<4,>=2.5 in /opt/conda/lib/python3.8/site-packages (from requests->pyquil<2.28.3,>=2.16->PennyLane-Forest) (3.3)\n",
      "Requirement already satisfied: urllib3<1.27,>=1.21.1 in /opt/conda/lib/python3.8/site-packages (from requests->pyquil<2.28.3,>=2.16->PennyLane-Forest) (1.26.8)\n",
      "Requirement already satisfied: charset-normalizer~=2.0.0 in /opt/conda/lib/python3.8/site-packages (from requests->pyquil<2.28.3,>=2.16->PennyLane-Forest) (2.0.12)\n",
      "Requirement already satisfied: certifi>=2017.4.17 in /opt/conda/lib/python3.8/site-packages (from requests->pyquil<2.28.3,>=2.16->PennyLane-Forest) (2021.10.8)\n",
      "Requirement already satisfied: ruamel.yaml.clib>=0.2.6 in /opt/conda/lib/python3.8/site-packages (from ruamel.yaml->rpcq>=3.6.0->pyquil<2.28.3,>=2.16->PennyLane-Forest) (0.2.6)\n",
      "Installing collected packages: python-rapidjson, msgpack, rpcq, lark, immutables, pyquil, PennyLane-Forest\n",
      "  Attempting uninstall: msgpack\n",
      "    Found existing installation: msgpack 1.0.3\n",
      "    Uninstalling msgpack-1.0.3:\n",
      "      Successfully uninstalled msgpack-1.0.3\n",
      "Successfully installed PennyLane-Forest-0.20.0 immutables-0.6 lark-1.1.2 msgpack-0.6.2 pyquil-2.28.2 python-rapidjson-1.6 rpcq-3.9.2\n",
      "Note: you may need to restart the kernel to use updated packages.\n"
     ]
    }
   ],
   "source": [
    "pip install PennyLane-Forest"
   ]
  },
  {
   "cell_type": "code",
   "execution_count": 19,
   "metadata": {},
   "outputs": [
    {
     "name": "stdout",
     "output_type": "stream",
     "text": [
      "Requirement already satisfied: pyquil==2.28.2 in /opt/conda/lib/python3.8/site-packages (2.28.2)\n",
      "Requirement already satisfied: lark in /opt/conda/lib/python3.8/site-packages (from pyquil==2.28.2) (1.1.2)\n",
      "Requirement already satisfied: rpcq>=3.6.0 in /opt/conda/lib/python3.8/site-packages (from pyquil==2.28.2) (3.9.2)\n",
      "Requirement already satisfied: numpy in /opt/conda/lib/python3.8/site-packages (from pyquil==2.28.2) (1.22.2)\n",
      "Requirement already satisfied: immutables==0.6 in /opt/conda/lib/python3.8/site-packages (from pyquil==2.28.2) (0.6)\n",
      "Requirement already satisfied: networkx>=2.0.0 in /opt/conda/lib/python3.8/site-packages (from pyquil==2.28.2) (2.7)\n",
      "Requirement already satisfied: requests in /opt/conda/lib/python3.8/site-packages (from pyquil==2.28.2) (2.27.1)\n",
      "Requirement already satisfied: scipy in /opt/conda/lib/python3.8/site-packages (from pyquil==2.28.2) (1.8.0)\n",
      "Requirement already satisfied: pyzmq>=17 in /opt/conda/lib/python3.8/site-packages (from rpcq>=3.6.0->pyquil==2.28.2) (22.3.0)\n",
      "Requirement already satisfied: python-rapidjson in /opt/conda/lib/python3.8/site-packages (from rpcq>=3.6.0->pyquil==2.28.2) (1.6)\n",
      "Requirement already satisfied: ruamel.yaml in /opt/conda/lib/python3.8/site-packages (from rpcq>=3.6.0->pyquil==2.28.2) (0.17.21)\n",
      "Requirement already satisfied: msgpack<1.0,>=0.6 in /opt/conda/lib/python3.8/site-packages (from rpcq>=3.6.0->pyquil==2.28.2) (0.6.2)\n",
      "Requirement already satisfied: idna<4,>=2.5 in /opt/conda/lib/python3.8/site-packages (from requests->pyquil==2.28.2) (3.3)\n",
      "Requirement already satisfied: certifi>=2017.4.17 in /opt/conda/lib/python3.8/site-packages (from requests->pyquil==2.28.2) (2021.10.8)\n",
      "Requirement already satisfied: urllib3<1.27,>=1.21.1 in /opt/conda/lib/python3.8/site-packages (from requests->pyquil==2.28.2) (1.26.8)\n",
      "Requirement already satisfied: charset-normalizer~=2.0.0 in /opt/conda/lib/python3.8/site-packages (from requests->pyquil==2.28.2) (2.0.12)\n",
      "Requirement already satisfied: ruamel.yaml.clib>=0.2.6 in /opt/conda/lib/python3.8/site-packages (from ruamel.yaml->rpcq>=3.6.0->pyquil==2.28.2) (0.2.6)\n",
      "Note: you may need to restart the kernel to use updated packages.\n"
     ]
    }
   ],
   "source": [
    "pip install pyquil==2.28.2"
   ]
  },
  {
   "cell_type": "code",
   "execution_count": 20,
   "metadata": {},
   "outputs": [
    {
     "name": "stdout",
     "output_type": "stream",
     "text": [
      "Requirement already satisfied: pennylane-forest in /opt/conda/lib/python3.8/site-packages (0.20.0)\n",
      "Requirement already satisfied: pennylane>=0.17 in /opt/conda/lib/python3.8/site-packages (from pennylane-forest) (0.21.0)\n",
      "Requirement already satisfied: pyquil<2.28.3,>=2.16 in /opt/conda/lib/python3.8/site-packages (from pennylane-forest) (2.28.2)\n",
      "Requirement already satisfied: autograd in /opt/conda/lib/python3.8/site-packages (from pennylane>=0.17->pennylane-forest) (1.3)\n",
      "Requirement already satisfied: cachetools in /opt/conda/lib/python3.8/site-packages (from pennylane>=0.17->pennylane-forest) (5.0.0)\n",
      "Requirement already satisfied: semantic-version==2.6 in /opt/conda/lib/python3.8/site-packages (from pennylane>=0.17->pennylane-forest) (2.6.0)\n",
      "Requirement already satisfied: networkx in /opt/conda/lib/python3.8/site-packages (from pennylane>=0.17->pennylane-forest) (2.7)\n",
      "Requirement already satisfied: scipy in /opt/conda/lib/python3.8/site-packages (from pennylane>=0.17->pennylane-forest) (1.8.0)\n",
      "Requirement already satisfied: appdirs in /opt/conda/lib/python3.8/site-packages (from pennylane>=0.17->pennylane-forest) (1.4.4)\n",
      "Requirement already satisfied: numpy in /opt/conda/lib/python3.8/site-packages (from pennylane>=0.17->pennylane-forest) (1.22.2)\n",
      "Requirement already satisfied: retworkx in /opt/conda/lib/python3.8/site-packages (from pennylane>=0.17->pennylane-forest) (0.11.0)\n",
      "Requirement already satisfied: autoray in /opt/conda/lib/python3.8/site-packages (from pennylane>=0.17->pennylane-forest) (0.2.5)\n",
      "Requirement already satisfied: pennylane-lightning>=0.21 in /opt/conda/lib/python3.8/site-packages (from pennylane>=0.17->pennylane-forest) (0.21.0)\n",
      "Requirement already satisfied: toml in /opt/conda/lib/python3.8/site-packages (from pennylane>=0.17->pennylane-forest) (0.10.2)\n",
      "Requirement already satisfied: ninja in /opt/conda/lib/python3.8/site-packages (from pennylane-lightning>=0.21->pennylane>=0.17->pennylane-forest) (1.10.2.3)\n",
      "Requirement already satisfied: requests in /opt/conda/lib/python3.8/site-packages (from pyquil<2.28.3,>=2.16->pennylane-forest) (2.27.1)\n",
      "Requirement already satisfied: immutables==0.6 in /opt/conda/lib/python3.8/site-packages (from pyquil<2.28.3,>=2.16->pennylane-forest) (0.6)\n",
      "Requirement already satisfied: rpcq>=3.6.0 in /opt/conda/lib/python3.8/site-packages (from pyquil<2.28.3,>=2.16->pennylane-forest) (3.9.2)\n",
      "Requirement already satisfied: lark in /opt/conda/lib/python3.8/site-packages (from pyquil<2.28.3,>=2.16->pennylane-forest) (1.1.2)\n",
      "Requirement already satisfied: pyzmq>=17 in /opt/conda/lib/python3.8/site-packages (from rpcq>=3.6.0->pyquil<2.28.3,>=2.16->pennylane-forest) (22.3.0)\n",
      "Requirement already satisfied: python-rapidjson in /opt/conda/lib/python3.8/site-packages (from rpcq>=3.6.0->pyquil<2.28.3,>=2.16->pennylane-forest) (1.6)\n",
      "Requirement already satisfied: msgpack<1.0,>=0.6 in /opt/conda/lib/python3.8/site-packages (from rpcq>=3.6.0->pyquil<2.28.3,>=2.16->pennylane-forest) (0.6.2)\n",
      "Requirement already satisfied: ruamel.yaml in /opt/conda/lib/python3.8/site-packages (from rpcq>=3.6.0->pyquil<2.28.3,>=2.16->pennylane-forest) (0.17.21)\n",
      "Requirement already satisfied: future>=0.15.2 in /opt/conda/lib/python3.8/site-packages (from autograd->pennylane>=0.17->pennylane-forest) (0.18.2)\n",
      "Requirement already satisfied: idna<4,>=2.5 in /opt/conda/lib/python3.8/site-packages (from requests->pyquil<2.28.3,>=2.16->pennylane-forest) (3.3)\n",
      "Requirement already satisfied: certifi>=2017.4.17 in /opt/conda/lib/python3.8/site-packages (from requests->pyquil<2.28.3,>=2.16->pennylane-forest) (2021.10.8)\n",
      "Requirement already satisfied: urllib3<1.27,>=1.21.1 in /opt/conda/lib/python3.8/site-packages (from requests->pyquil<2.28.3,>=2.16->pennylane-forest) (1.26.8)\n",
      "Requirement already satisfied: charset-normalizer~=2.0.0 in /opt/conda/lib/python3.8/site-packages (from requests->pyquil<2.28.3,>=2.16->pennylane-forest) (2.0.12)\n",
      "Requirement already satisfied: ruamel.yaml.clib>=0.2.6 in /opt/conda/lib/python3.8/site-packages (from ruamel.yaml->rpcq>=3.6.0->pyquil<2.28.3,>=2.16->pennylane-forest) (0.2.6)\n"
     ]
    }
   ],
   "source": [
    "!pip install pennylane-forest"
   ]
  },
  {
   "cell_type": "code",
   "execution_count": 21,
   "metadata": {},
   "outputs": [],
   "source": [
    "from pyquil.api import WavefunctionSimulator"
   ]
  },
  {
   "cell_type": "code",
   "execution_count": 22,
   "metadata": {},
   "outputs": [
    {
     "name": "stderr",
     "output_type": "stream",
     "text": [
      "/opt/conda/lib/python3.8/site-packages/_distutils_hack/__init__.py:30: UserWarning: Setuptools is replacing distutils.\n",
      "  warnings.warn(\"Setuptools is replacing distutils.\")\n"
     ]
    }
   ],
   "source": [
    "import pennylane as qml"
   ]
  },
  {
   "cell_type": "code",
   "execution_count": 23,
   "metadata": {},
   "outputs": [],
   "source": [
    "n_qubits =4\n",
    "dev = qml.device(\"default.qubit\", wires=n_qubits, shots = 1500)\n",
    "#dev = qml.device('forest.wavefunction', wires=n_qubits, shots = 500)\n",
    "#dev = qml.device('forest.numpy_wavefunction', wires=n_qubits, shots = 1500)\n",
    "#dev = qml.device('forest.qvm', device='2q-pyqvm', shots=1500) #running but 2 qubit model only\n"
   ]
  },
  {
   "cell_type": "code",
   "execution_count": 24,
   "metadata": {
    "id": "HV1ZWfo3M06N"
   },
   "outputs": [],
   "source": [
    "@qml.qnode(dev)\n",
    "def qnode(inputs, weights):\n",
    "    qml.AngleEmbedding(inputs, wires=range(n_qubits))\n",
    "    qml.BasicEntanglerLayers(weights, wires=range(n_qubits))\n",
    "    return [qml.expval(qml.PauliZ(wires=i)) for i in range(n_qubits)]"
   ]
  },
  {
   "cell_type": "code",
   "execution_count": 25,
   "metadata": {
    "id": "JrmZIE20M06N"
   },
   "outputs": [],
   "source": [
    "tf.keras.backend.set_floatx('float64')"
   ]
  },
  {
   "cell_type": "code",
   "execution_count": 26,
   "metadata": {
    "id": "uuxy-RcIM06O"
   },
   "outputs": [],
   "source": [
    "n_layers = 4\n",
    "weight_shapes = {\"weights\": (n_layers, n_qubits)}"
   ]
  },
  {
   "cell_type": "code",
   "execution_count": 27,
   "metadata": {
    "id": "w_r5h826M06O"
   },
   "outputs": [],
   "source": [
    "qlayer = qml.qnn.KerasLayer(qnode, weight_shapes, output_dim=n_qubits)"
   ]
  },
  {
   "cell_type": "code",
   "execution_count": 28,
   "metadata": {
    "id": "qC-JzydEZ38v"
   },
   "outputs": [],
   "source": [
    "def r_square(y_true, y_pred):\n",
    "    \n",
    "    SS_res =  K.sum(K.square(y_true - y_pred)) \n",
    "    SS_tot = K.sum(K.square(y_true - K.mean(y_true))) \n",
    "    return ( 1 - SS_res/(SS_tot + K.epsilon()) )"
   ]
  },
  {
   "cell_type": "code",
   "execution_count": 30,
   "metadata": {
    "id": "pyvt0iN-aakT"
   },
   "outputs": [],
   "source": [
    "from tensorflow.keras import backend as K"
   ]
  },
  {
   "cell_type": "code",
   "execution_count": 31,
   "metadata": {},
   "outputs": [
    {
     "name": "stdout",
     "output_type": "stream",
     "text": [
      "14/14 - 283s - loss: 0.1561 - mse: 0.0418 - r_square: 0.0348 - cosine_similarity: 1.0000 - val_loss: 0.1357 - val_mse: 0.0255 - val_r_square: 0.2470 - val_cosine_similarity: 1.0000 - 283s/epoch - 20s/step\n",
      "time taken to train in sec:  282.58830213546753\n"
     ]
    }
   ],
   "source": [
    "import time\n",
    "start_time = time.time()\n",
    "clayer_1 = tf.keras.layers.Dense(2)\n",
    "clayer_10 = tf.keras.layers.Dense(100, activation=\"relu\")\n",
    "clayer_11 = tf.keras.layers.Dense(100, activation=\"relu\")\n",
    "clayer_12 = tf.keras.layers.Dense(100, activation=\"relu\")\n",
    "clayer_2 = tf.keras.layers.Dense(1) #, activation=\"linear\"\n",
    "model = tf.keras.models.Sequential([clayer_1, qlayer, clayer_10, clayer_11, clayer_12, clayer_2]) #clayer_11, clayer_12,\n",
    "opt = tf.keras.optimizers.Adam(learning_rate=0.01)\n",
    "from tensorflow.keras.metrics import Metric\n",
    "#model.compile(optimizer='sgd', loss=\"mse\", metrics=[tf.keras.metrics.CosineSimilarity( name=\"cosine_similarity\", dtype=None, axis=-1)])\n",
    "#model.compile(opt, loss=\"mae\", metrics=[tf.keras.metrics.RootMeanSquaredError()]) #(tf.keras.metrics.MeanSquaredError(name=\"mean_squared_error\", dtype=None))\n",
    "model.compile(opt, loss=\"mae\", metrics=['mse',r_square,tf.keras.metrics.CosineSimilarity( name=\"cosine_similarity\", dtype=None, axis=-1)])\n",
    "#model.compile(opt, loss=\"mae\", metrics=['mse',r_square,tf.keras.losses.Huber()])\n",
    "#model.compile(optimizer='sgd', loss=\"mae\", metrics=['mse',r_square])\n",
    "#model.compile(opt, loss=\"mae\", metrics=tf.keras.losses.Huber())\n",
    "#history = model.fit(X, y_hot, epochs=5, batch_size=5, validation_split=0.25, verbose=2)\n",
    "history = model.fit(xtrainsmall,ytrainsmall, epochs=1, batch_size=128, validation_split=0.25, verbose=2)#, validation_data = (xtrainsmall[1300:],ytrainsmall[1300:]),verbose=2)\n",
    "end_time = time.time()\n",
    "#print('end_time: ', end_time)\n",
    "print('time taken to train in sec: ', (end_time - start_time))\n",
    "history_dict = history.history\n",
    "history_dict.keys()\n",
    "\n",
    "\n",
    "# convert the history.history dict to a pandas DataFrame:     \n",
    "hist_df = pd.DataFrame(history.history) \n",
    "# or save to csv: \n",
    "hist_csv_file = 'QReg5Qu100Shot2Qulaytrain.csv'\n",
    "with open(hist_csv_file, mode='w') as f:\n",
    "    hist_df.to_csv(f)"
   ]
  },
  {
   "cell_type": "code",
   "execution_count": 32,
   "metadata": {
    "id": "PnHdLuggt9GI"
   },
   "outputs": [
    {
     "name": "stdout",
     "output_type": "stream",
     "text": [
      "Traceback \u001b[1;36m(most recent call last)\u001b[0m:\n",
      "  Input \u001b[0;32mIn [32]\u001b[0m in \u001b[0;35m<cell line: 5>\u001b[0m\n",
      "    joblib.dump(model, filename)\n",
      "  File \u001b[0;32m/opt/conda/lib/python3.8/site-packages/joblib/numpy_pickle.py:482\u001b[0m in \u001b[0;35mdump\u001b[0m\n",
      "    NumpyPickler(f, protocol=protocol).dump(value)\n",
      "  File \u001b[0;32m/opt/conda/lib/python3.8/pickle.py:487\u001b[0m in \u001b[0;35mdump\u001b[0m\n",
      "    self.save(obj)\n",
      "  File \u001b[0;32m/opt/conda/lib/python3.8/site-packages/joblib/numpy_pickle.py:284\u001b[0m in \u001b[0;35msave\u001b[0m\n",
      "    return Pickler.save(self, obj)\n",
      "  File \u001b[0;32m/opt/conda/lib/python3.8/pickle.py:578\u001b[0m in \u001b[0;35msave\u001b[0m\n",
      "    rv = reduce(self.proto)\n",
      "  File \u001b[0;32m/opt/conda/lib/python3.8/site-packages/keras/engine/training.py:315\u001b[0m in \u001b[0;35m__reduce__\u001b[0m\n",
      "    pickle_utils.serialize_model_as_bytecode(self))\n",
      "  File \u001b[0;32m/opt/conda/lib/python3.8/site-packages/keras/saving/pickle_utils.py:64\u001b[0m in \u001b[0;35mserialize_model_as_bytecode\u001b[0m\n",
      "    model.save(temp_dir)\n",
      "  File \u001b[0;32m/opt/conda/lib/python3.8/site-packages/keras/utils/traceback_utils.py:67\u001b[0m in \u001b[0;35merror_handler\u001b[0m\n",
      "    raise e.with_traceback(filtered_tb) from None\n",
      "\u001b[1;36m  File \u001b[1;32m/opt/conda/lib/python3.8/site-packages/tensorflow/python/framework/func_graph.py:1147\u001b[1;36m in \u001b[1;35mautograph_handler\u001b[1;36m\u001b[0m\n",
      "\u001b[1;33m    raise e.ag_error_metadata.to_exception(e)\u001b[0m\n",
      "\u001b[1;31mValueError\u001b[0m\u001b[1;31m:\u001b[0m in user code:\n",
      "\n",
      "    File \"/opt/conda/lib/python3.8/site-packages/keras/saving/saving_utils.py\", line 138, in _wrapped_model  *\n",
      "        outputs = model(*args, **kwargs)\n",
      "    File \"/opt/conda/lib/python3.8/site-packages/keras/utils/traceback_utils.py\", line 67, in error_handler  **\n",
      "        raise e.with_traceback(filtered_tb) from None\n",
      "\n",
      "    ValueError: Exception encountered when calling layer \"keras_layer\" (type KerasLayer).\n",
      "    \n",
      "    in user code:\n",
      "    \n",
      "        File \"/opt/conda/lib/python3.8/site-packages/pennylane/qnn/keras.py\", line 289, in call  *\n",
      "            for x in tf.unstack(inputs):\n",
      "    \n",
      "        ValueError: Cannot infer argument `num` from shape (None, 2)\n",
      "    \n",
      "    \n",
      "    Call arguments received:\n",
      "      • inputs=tf.Tensor(shape=(None, 2), dtype=float64)\n",
      "\n",
      "\n",
      "Use %tb to get the full traceback.\n"
     ]
    },
    {
     "data": {
      "text/html": [
       "\n",
       "<style>\n",
       ".button {\n",
       "  border: none;\n",
       "  color: white;\n",
       "  padding: 4px 8px;\n",
       "  text-align: center;\n",
       "  text-decoration: none;\n",
       "  display: inline-block;\n",
       "  font-size: 12px;\n",
       "  margin: 4px 2px;\n",
       "  transition-duration: 0.2s;\n",
       "  cursor: pointer;\n",
       "}\n",
       ".iqx-button {\n",
       "  background-color: #0f62fe; \n",
       "  color: white; \n",
       "}\n",
       ".iqx-button:hover {\n",
       "  background-color: #0043ce;\n",
       "  color: white;\n",
       "}\n",
       "</style>\n",
       "<a href=\"https://stackoverflow.com/search?q=ValueError: in user code:\n",
       "\n",
       "    File \"/opt/conda/lib/python3.8/site-packages/keras/saving/saving_utils.py\", line 138, in _wrapped_model  *\n",
       "        outputs = model(*args, **kwargs)\n",
       "    File \"/opt/conda/lib/python3.8/site-packages/keras/utils/traceback_utils.py\", line 67, in error_handler  **\n",
       "        raise e.with_traceback(filtered_tb) from None\n",
       "\n",
       "    ValueError: Exception encountered when calling layer \"keras_layer\" (type KerasLayer).\n",
       "    \n",
       "    in user code:\n",
       "    \n",
       "        File \"/opt/conda/lib/python3.8/site-packages/pennylane/qnn/keras.py\", line 289, in call  *\n",
       "            for x in tf.unstack(inputs):\n",
       "    \n",
       "        ValueError: Cannot infer argument `num` from shape (None, 2)\n",
       "    \n",
       "    \n",
       "    Call arguments received:\n",
       "      • inputs=tf.Tensor(shape=(None, 2), dtype=float64)\n",
       "\" target='_blank'><button class='button iqx-button'>Search for solution online</button></a>\n"
      ],
      "text/plain": [
       "<IPython.core.display.HTML object>"
      ]
     },
     "metadata": {},
     "output_type": "display_data"
    }
   ],
   "source": [
    "from keras.models import load_model\n",
    "#model.save(SAVE_PATH +\"modelQReg5Qu100Shot2Qulaytrain.h5\")\n",
    "import joblib\n",
    "filename = 'modelQReg5Qu500Shot3Qulaytrain.model'\n",
    "joblib.dump(model, filename)\n",
    "print(\"Saved model to disk\")"
   ]
  },
  {
   "cell_type": "code",
   "execution_count": 33,
   "metadata": {
    "id": "lbNkt50UxArV"
   },
   "outputs": [
    {
     "data": {
      "text/plain": [
       "dict_keys(['loss', 'mse', 'r_square', 'cosine_similarity', 'val_loss', 'val_mse', 'val_r_square', 'val_cosine_similarity'])"
      ]
     },
     "execution_count": 33,
     "metadata": {},
     "output_type": "execute_result"
    }
   ],
   "source": [
    "history_dict = history.history\n",
    "history_dict.keys()"
   ]
  },
  {
   "cell_type": "code",
   "execution_count": 35,
   "metadata": {
    "id": "FsBlrYCZM06P"
   },
   "outputs": [
    {
     "name": "stderr",
     "output_type": "stream",
     "text": [
      "/tmp/ipykernel_59/3598882998.py:11: MatplotlibDeprecationWarning: savefig() got unexpected keyword argument \"quality\" which is no longer supported as of 3.3 and will become an error in 3.6\n",
      "  plt.savefig(\"QReg5Qu500Shot3QulayLossplot.png\", dpi=300, quality=80, optimize=True, progressive=True, bbox_inches='tight')\n",
      "/tmp/ipykernel_59/3598882998.py:11: MatplotlibDeprecationWarning: savefig() got unexpected keyword argument \"optimize\" which is no longer supported as of 3.3 and will become an error in 3.6\n",
      "  plt.savefig(\"QReg5Qu500Shot3QulayLossplot.png\", dpi=300, quality=80, optimize=True, progressive=True, bbox_inches='tight')\n",
      "/tmp/ipykernel_59/3598882998.py:11: MatplotlibDeprecationWarning: savefig() got unexpected keyword argument \"progressive\" which is no longer supported as of 3.3 and will become an error in 3.6\n",
      "  plt.savefig(\"QReg5Qu500Shot3QulayLossplot.png\", dpi=300, quality=80, optimize=True, progressive=True, bbox_inches='tight')\n"
     ]
    },
    {
     "data": {
      "image/png": "[encoded data removed]",
      "text/plain": [
       "<Figure size 432x288 with 1 Axes>"
      ]
     },
     "metadata": {
      "needs_background": "light"
     },
     "output_type": "display_data"
    }
   ],
   "source": [
    "# summarize history for MSE Loss\n",
    "fig1 = plt.gcf()\n",
    "plt.plot(history.history['loss'],'c-', linewidth=3)\n",
    "plt.plot(history.history['val_loss'],'m-', linewidth=3)\n",
    "plt.grid(True)\n",
    "#plt.title('ORPN Model Loss', fontsize=12)\n",
    "plt.ylabel('MeanAbsoluteError Loss', fontsize=12)\n",
    "plt.xlabel('Epochs', fontsize=12)\n",
    "plt.legend(['Training', 'Validation'], loc='best', fontsize=12)\n",
    "#plt.savefig('Autoencoder Model Loss.png', dpi=300)\n",
    "plt.savefig(\"QReg5Qu500Shot3QulayLossplot.png\", dpi=300, quality=80, optimize=True, progressive=True, bbox_inches='tight')\n",
    "#plt.savefig(SAVE_PATH + \"QReg5Qu100Shot2QulayLossplot.png\")\n",
    "plt.show()\n"
   ]
  },
  {
   "cell_type": "code",
   "execution_count": 36,
   "metadata": {
    "id": "thiXZ_sCM06Q"
   },
   "outputs": [
    {
     "name": "stderr",
     "output_type": "stream",
     "text": [
      "/tmp/ipykernel_59/2996017724.py:10: MatplotlibDeprecationWarning: savefig() got unexpected keyword argument \"quality\" which is no longer supported as of 3.3 and will become an error in 3.6\n",
      "  plt.savefig(\"QReg5Qu500Shot3QulayMSEplot.png\", dpi=300, quality=80, optimize=True, progressive=True, bbox_inches='tight')\n",
      "/tmp/ipykernel_59/2996017724.py:10: MatplotlibDeprecationWarning: savefig() got unexpected keyword argument \"optimize\" which is no longer supported as of 3.3 and will become an error in 3.6\n",
      "  plt.savefig(\"QReg5Qu500Shot3QulayMSEplot.png\", dpi=300, quality=80, optimize=True, progressive=True, bbox_inches='tight')\n",
      "/tmp/ipykernel_59/2996017724.py:10: MatplotlibDeprecationWarning: savefig() got unexpected keyword argument \"progressive\" which is no longer supported as of 3.3 and will become an error in 3.6\n",
      "  plt.savefig(\"QReg5Qu500Shot3QulayMSEplot.png\", dpi=300, quality=80, optimize=True, progressive=True, bbox_inches='tight')\n"
     ]
    },
    {
     "data": {
      "image/png": "[encoded data removed]",
      "text/plain": [
       "<Figure size 432x288 with 1 Axes>"
      ]
     },
     "metadata": {
      "needs_background": "light"
     },
     "output_type": "display_data"
    }
   ],
   "source": [
    "# summarize history for MSE Loss\n",
    "fig1 = plt.gcf()\n",
    "plt.plot(history.history['mse'],'c-', linewidth=3) #cosine_similarity val_cosine_similarity\n",
    "plt.plot(history.history['val_mse'],'m-', linewidth=3)\n",
    "plt.grid(True)\n",
    "#plt.title('ORPN Model Loss', fontsize=12)\n",
    "plt.ylabel('MeanSquareError Loss', fontsize=12)\n",
    "plt.xlabel('Epochs', fontsize=12)\n",
    "plt.legend(['Training', 'Validation'], loc='best', fontsize=12)\n",
    "plt.savefig(\"QReg5Qu500Shot3QulayMSEplot.png\", dpi=300, quality=80, optimize=True, progressive=True, bbox_inches='tight')\n",
    "#plt.savefig(SAVE_PATH + \"QReg5Qu100Shot2QulayMSEplot.png\")\n",
    "plt.show()"
   ]
  },
  {
   "cell_type": "code",
   "execution_count": 37,
   "metadata": {
    "id": "2SMQ7RpPS5ri"
   },
   "outputs": [
    {
     "name": "stderr",
     "output_type": "stream",
     "text": [
      "/tmp/ipykernel_59/2368346379.py:10: MatplotlibDeprecationWarning: savefig() got unexpected keyword argument \"quality\" which is no longer supported as of 3.3 and will become an error in 3.6\n",
      "  plt.savefig(\"QReg5Qu500Shot3QulayCosineplot.png\", dpi=300, quality=80, optimize=True, progressive=True, bbox_inches='tight')\n",
      "/tmp/ipykernel_59/2368346379.py:10: MatplotlibDeprecationWarning: savefig() got unexpected keyword argument \"optimize\" which is no longer supported as of 3.3 and will become an error in 3.6\n",
      "  plt.savefig(\"QReg5Qu500Shot3QulayCosineplot.png\", dpi=300, quality=80, optimize=True, progressive=True, bbox_inches='tight')\n",
      "/tmp/ipykernel_59/2368346379.py:10: MatplotlibDeprecationWarning: savefig() got unexpected keyword argument \"progressive\" which is no longer supported as of 3.3 and will become an error in 3.6\n",
      "  plt.savefig(\"QReg5Qu500Shot3QulayCosineplot.png\", dpi=300, quality=80, optimize=True, progressive=True, bbox_inches='tight')\n"
     ]
    },
    {
     "data": {
      "image/png": "[encoded data removed]",
      "text/plain": [
       "<Figure size 432x288 with 1 Axes>"
      ]
     },
     "metadata": {
      "needs_background": "light"
     },
     "output_type": "display_data"
    }
   ],
   "source": [
    "# summarize history for MSE Loss\n",
    "fig1 = plt.gcf()\n",
    "plt.plot(history.history['cosine_similarity'],'c-', linewidth=3) #cosine_similarity val_cosine_similarity\n",
    "plt.plot(history.history['val_cosine_similarity'],'m-', linewidth=3)\n",
    "plt.grid(True)\n",
    "#plt.title('ORPN Model Loss', fontsize=12)\n",
    "plt.ylabel('Cosine_similarity Measure', fontsize=12)\n",
    "plt.xlabel('Epochs', fontsize=12)\n",
    "plt.legend(['Training', 'Validation'], loc='best', fontsize=12)\n",
    "plt.savefig(\"QReg5Qu500Shot3QulayCosineplot.png\", dpi=300, quality=80, optimize=True, progressive=True, bbox_inches='tight')\n",
    "#plt.savefig(SAVE_PATH + \"QReg5Qu100Shot2QulayR2plot.png\")\n",
    "plt.show()"
   ]
  },
  {
   "cell_type": "code",
   "execution_count": 87,
   "metadata": {
    "id": "TRG78-PmaUo2"
   },
   "outputs": [],
   "source": [
    "Ypredictiontrain100 = model.predict(xtrainsmall[1688:1778])"
   ]
  },
  {
   "cell_type": "code",
   "execution_count": 38,
   "metadata": {},
   "outputs": [],
   "source": [
    "HQCNNReg= model.predict(xtrainsmall[1688:1778])"
   ]
  },
  {
   "cell_type": "code",
   "execution_count": 40,
   "metadata": {
    "id": "2aIdquahbTsZ"
   },
   "outputs": [
    {
     "name": "stdout",
     "output_type": "stream",
     "text": [
      "R2 score for 50 Epochs: 0.795\n"
     ]
    }
   ],
   "source": [
    "from sklearn.metrics import r2_score\n",
    "R = r2_score(ytrainsmall[1688:1778], HQCNNReg)\n",
    "print('R2 score for 50 Epochs: %.3f' % R) # Best should be 1"
   ]
  },
  {
   "cell_type": "code",
   "execution_count": 41,
   "metadata": {
    "id": "zpHCGpVvcBPb"
   },
   "outputs": [
    {
     "name": "stdout",
     "output_type": "stream",
     "text": [
      "Variance score for 50 Epochs: 0.847\n"
     ]
    }
   ],
   "source": [
    " from sklearn.metrics import explained_variance_score\n",
    " V = explained_variance_score(ytrainsmall[1688:1778], HQCNNReg)\n",
    " print('Variance score for 50 Epochs: %.3f' % V) # Best should be 1"
   ]
  },
  {
   "cell_type": "code",
   "execution_count": 42,
   "metadata": {
    "id": "Xm6_2qRSbl4D"
   },
   "outputs": [
    {
     "name": "stdout",
     "output_type": "stream",
     "text": [
      "Maximum error for 50 Epochs: 0.161\n"
     ]
    }
   ],
   "source": [
    "from sklearn.metrics import max_error\n",
    "E = max_error(ytrainsmall[1688:1778], HQCNNReg)\n",
    "print('Maximum error for 50 Epochs: %.3f' % E) # Best should be 0"
   ]
  },
  {
   "cell_type": "code",
   "execution_count": 44,
   "metadata": {
    "id": "vfWxh8dy6I43"
   },
   "outputs": [],
   "source": [
    "a = scaler1.fit(ytrainsmall[1688:1778])"
   ]
  },
  {
   "cell_type": "code",
   "execution_count": 45,
   "metadata": {
    "id": "a7kcdd9Ff1XQ"
   },
   "outputs": [],
   "source": [
    "y01 = scaler1.inverse_transform(ytrainsmall[1688:1778])\n"
   ]
  },
  {
   "cell_type": "code",
   "execution_count": 46,
   "metadata": {
    "id": "jeCRYLQnc95k"
   },
   "outputs": [],
   "source": [
    "\n",
    "y03 = scaler1.inverse_transform(HQCNNReg[:])"
   ]
  },
  {
   "cell_type": "code",
   "execution_count": null,
   "metadata": {},
   "outputs": [],
   "source": []
  },
  {
   "cell_type": "code",
   "execution_count": 49,
   "metadata": {},
   "outputs": [
    {
     "data": {
      "text/plain": [
       "SVR()"
      ]
     },
     "execution_count": 49,
     "metadata": {},
     "output_type": "execute_result"
    }
   ],
   "source": [
    "from sklearn.svm import SVR\n",
    "regressor = SVR(kernel = 'rbf')\n",
    "regressor.fit(xtrainsmall[:1668], np.ravel(ytrainsmall[:1668],order='C'))"
   ]
  },
  {
   "cell_type": "code",
   "execution_count": 114,
   "metadata": {},
   "outputs": [],
   "source": [
    "SVRPred = regressor.predict(xtrainsmall[1688:1778])"
   ]
  },
  {
   "cell_type": "code",
   "execution_count": 51,
   "metadata": {},
   "outputs": [],
   "source": [
    "from sklearn.metrics import mean_absolute_error\n",
    "from sklearn.metrics import mean_squared_error\n",
    "from sklearn.metrics import r2_score"
   ]
  },
  {
   "cell_type": "code",
   "execution_count": 52,
   "metadata": {},
   "outputs": [],
   "source": [
    "SVRPred1 = regressor.predict(xtrainsmall[1668:])"
   ]
  },
  {
   "cell_type": "code",
   "execution_count": 53,
   "metadata": {},
   "outputs": [
    {
     "data": {
      "text/plain": [
       "0.919392870595171"
      ]
     },
     "execution_count": 53,
     "metadata": {},
     "output_type": "execute_result"
    }
   ],
   "source": [
    "r2_score(SVRPred1,ytrainsmall[1668:])"
   ]
  },
  {
   "cell_type": "code",
   "execution_count": 54,
   "metadata": {},
   "outputs": [
    {
     "data": {
      "text/plain": [
       "0.942224888127076"
      ]
     },
     "execution_count": 54,
     "metadata": {},
     "output_type": "execute_result"
    }
   ],
   "source": [
    " from sklearn.metrics import explained_variance_score\n",
    " explained_variance_score(SVRPred1,ytrainsmall[1668:])"
   ]
  },
  {
   "cell_type": "code",
   "execution_count": 55,
   "metadata": {},
   "outputs": [
    {
     "data": {
      "text/plain": [
       "0.16912962314134167"
      ]
     },
     "execution_count": 55,
     "metadata": {},
     "output_type": "execute_result"
    }
   ],
   "source": [
    "from sklearn.metrics import max_error\n",
    "max_error(SVRPred1,ytrainsmall[1668:])"
   ]
  },
  {
   "cell_type": "code",
   "execution_count": null,
   "metadata": {},
   "outputs": [],
   "source": [
    "RFPred = rf.predict(xtrainsmall[1688:1778])"
   ]
  },
  {
   "cell_type": "code",
   "execution_count": 67,
   "metadata": {},
   "outputs": [],
   "source": [
    "RFPred1 = rf.predict(xtrainsmall[1688:])"
   ]
  },
  {
   "cell_type": "code",
   "execution_count": 68,
   "metadata": {},
   "outputs": [
    {
     "data": {
      "text/plain": [
       "0.6846045605178268"
      ]
     },
     "execution_count": 68,
     "metadata": {},
     "output_type": "execute_result"
    }
   ],
   "source": [
    "r2_score(RFPred1,ytrainsmall[1688:])"
   ]
  },
  {
   "cell_type": "code",
   "execution_count": 69,
   "metadata": {},
   "outputs": [
    {
     "data": {
      "text/plain": [
       "0.6863226507313966"
      ]
     },
     "execution_count": 69,
     "metadata": {},
     "output_type": "execute_result"
    }
   ],
   "source": [
    " from sklearn.metrics import explained_variance_score\n",
    " explained_variance_score(RFPred1,ytrainsmall[1688:])"
   ]
  },
  {
   "cell_type": "code",
   "execution_count": 70,
   "metadata": {},
   "outputs": [
    {
     "data": {
      "text/plain": [
       "0.42861805225642163"
      ]
     },
     "execution_count": 70,
     "metadata": {},
     "output_type": "execute_result"
    }
   ],
   "source": [
    "from sklearn.metrics import max_error\n",
    "max_error(RFPred1,ytrainsmall[1688:])"
   ]
  },
  {
   "cell_type": "code",
   "execution_count": 72,
   "metadata": {},
   "outputs": [],
   "source": [
    "from sklearn.tree import DecisionTreeRegressor\n",
    "\n",
    "DT = DecisionTreeRegressor(random_state=0)"
   ]
  },
  {
   "cell_type": "code",
   "execution_count": 73,
   "metadata": {},
   "outputs": [
    {
     "data": {
      "text/plain": [
       "DecisionTreeRegressor(random_state=0)"
      ]
     },
     "execution_count": 73,
     "metadata": {},
     "output_type": "execute_result"
    }
   ],
   "source": [
    "DT.fit(xtrainsmall[:1668], np.ravel(ytrainsmall[:1668]))"
   ]
  },
  {
   "cell_type": "code",
   "execution_count": null,
   "metadata": {},
   "outputs": [],
   "source": [
    "DTPred = DT.predict(xtrainsmall[1688:1778])"
   ]
  },
  {
   "cell_type": "code",
   "execution_count": 77,
   "metadata": {},
   "outputs": [],
   "source": [
    "DTPred1 = DT.predict(xtrainsmall[1688:])"
   ]
  },
  {
   "cell_type": "code",
   "execution_count": 78,
   "metadata": {},
   "outputs": [
    {
     "data": {
      "text/plain": [
       "0.9828608100170013"
      ]
     },
     "execution_count": 78,
     "metadata": {},
     "output_type": "execute_result"
    }
   ],
   "source": [
    "r2_score(DTPred1,ytrainsmall[1688:])"
   ]
  },
  {
   "cell_type": "code",
   "execution_count": 79,
   "metadata": {},
   "outputs": [
    {
     "data": {
      "text/plain": [
       "0.983152641780003"
      ]
     },
     "execution_count": 79,
     "metadata": {},
     "output_type": "execute_result"
    }
   ],
   "source": [
    " from sklearn.metrics import explained_variance_score\n",
    " explained_variance_score(DTPred1,ytrainsmall[1688:])"
   ]
  },
  {
   "cell_type": "code",
   "execution_count": 80,
   "metadata": {},
   "outputs": [
    {
     "data": {
      "text/plain": [
       "0.16876336829678096"
      ]
     },
     "execution_count": 80,
     "metadata": {},
     "output_type": "execute_result"
    }
   ],
   "source": [
    "from sklearn.metrics import max_error\n",
    "max_error(DTPred1,ytrainsmall[1688:])"
   ]
  },
  {
   "cell_type": "code",
   "execution_count": 83,
   "metadata": {},
   "outputs": [],
   "source": [
    "import pandas as pd\n",
    "import matplotlib\n",
    "from sklearn.model_selection import train_test_split\n",
    "from tensorflow.keras.models import Sequential\n",
    "from tensorflow.keras.layers import Dense, Dropout, BatchNormalization\n",
    "from sklearn.preprocessing import StandardScaler,MinMaxScaler,RobustScaler\n",
    "from tensorflow.keras.callbacks import EarlyStopping\n",
    "from tensorflow.keras.callbacks import ModelCheckpoint\n",
    "from sklearn.metrics import r2_score as r2\n",
    "from sklearn.metrics import mean_squared_error as mse\n",
    "np.seterr(all='warn')\n",
    "import warnings\n",
    "warnings.filterwarnings('ignore')\n",
    "%matplotlib inline  "
   ]
  },
  {
   "cell_type": "code",
   "execution_count": 84,
   "metadata": {},
   "outputs": [],
   "source": [
    "from tensorflow.keras import backend as K"
   ]
  },
  {
   "cell_type": "code",
   "execution_count": 85,
   "metadata": {},
   "outputs": [],
   "source": [
    "def r_square(y_true, y_pred):\n",
    "    \n",
    "    SS_res =  K.sum(K.square(y_true - y_pred)) \n",
    "    SS_tot = K.sum(K.square(y_true - K.mean(y_true))) \n",
    "    return ( 1 - SS_res/(SS_tot + K.epsilon()) )"
   ]
  },
  {
   "cell_type": "code",
   "execution_count": 86,
   "metadata": {},
   "outputs": [
    {
     "name": "stdout",
     "output_type": "stream",
     "text": [
      "Epoch 1/5\n",
      "46/53 [=========================>....] - ETA: 0s - loss: 0.0733 - mse: 0.0733 - mae: 0.2070 - r_square: -0.6476\n",
      "Epoch 1: val_r_square improved from -inf to -1122.91460, saving model to assets/ann_model.h5\n",
      "53/53 [==============================] - 2s 22ms/step - loss: 0.0685 - mse: 0.0685 - mae: 0.2012 - r_square: -0.5192 - val_loss: 0.0326 - val_mse: 0.0326 - val_mae: 0.1521 - val_r_square: -1122.9146\n",
      "Epoch 2/5\n",
      "52/53 [============================>.] - ETA: 0s - loss: 0.0186 - mse: 0.0186 - mae: 0.1128 - r_square: 0.5727\n",
      "Epoch 2: val_r_square improved from -1122.91460 to -89.27309, saving model to assets/ann_model.h5\n",
      "53/53 [==============================] - 0s 8ms/step - loss: 0.0186 - mse: 0.0186 - mae: 0.1127 - r_square: 0.5790 - val_loss: 0.0148 - val_mse: 0.0148 - val_mae: 0.0961 - val_r_square: -89.2731\n",
      "Epoch 3/5\n",
      "42/53 [======================>.......] - ETA: 0s - loss: 0.0085 - mse: 0.0085 - mae: 0.0694 - r_square: 0.8044\n",
      "Epoch 3: val_r_square improved from -89.27309 to -0.31254, saving model to assets/ann_model.h5\n",
      "53/53 [==============================] - 0s 7ms/step - loss: 0.0080 - mse: 0.0080 - mae: 0.0670 - r_square: 0.8121 - val_loss: 0.0063 - val_mse: 0.0063 - val_mae: 0.0562 - val_r_square: -0.3125\n",
      "Epoch 4/5\n",
      "44/53 [=======================>......] - ETA: 0s - loss: 0.0037 - mse: 0.0037 - mae: 0.0449 - r_square: 0.9143\n",
      "Epoch 4: val_r_square did not improve from -0.31254\n",
      "53/53 [==============================] - 0s 5ms/step - loss: 0.0036 - mse: 0.0036 - mae: 0.0442 - r_square: 0.9183 - val_loss: 0.0040 - val_mse: 0.0040 - val_mae: 0.0483 - val_r_square: -16.8006\n",
      "Epoch 5/5\n",
      "50/53 [===========================>..] - ETA: 0s - loss: 0.0025 - mse: 0.0025 - mae: 0.0377 - r_square: 0.9400\n",
      "Epoch 5: val_r_square did not improve from -0.31254\n",
      "53/53 [==============================] - 0s 5ms/step - loss: 0.0025 - mse: 0.0025 - mae: 0.0375 - r_square: 0.9418 - val_loss: 0.0030 - val_mse: 0.0030 - val_mae: 0.0397 - val_r_square: -15.5441\n"
     ]
    }
   ],
   "source": [
    "model = Sequential()\n",
    "model.add(Dense(4, input_dim=4, activation='relu',\n",
    "                    name='main_input'))\n",
    "model.add(Dense(10,activation='relu',name='layer_1'))\n",
    "model.add(Dense(20,activation='relu',\n",
    "                    name='layer_2'))\n",
    "    \n",
    "model.add(Dense(40,activation='relu'\n",
    "                    ,name='layer_3'))\n",
    "model.add(Dense(10,activation='relu',\n",
    "                    name='layer_4'))\n",
    "\n",
    "model.add(Dense(1,name='layer_output'))\n",
    "\n",
    "\n",
    "\n",
    "adam = tf.keras.optimizers.Adam(learning_rate=0.001)\n",
    "\n",
    "model.compile(loss='mean_squared_error', optimizer=adam,metrics=['mse','mae',r_square])\n",
    "\n",
    "callbacks = [\n",
    "    EarlyStopping(\n",
    "        monitor='val_loss', \n",
    "        patience=5500,\n",
    "        mode='min',verbose=1),\n",
    "    ModelCheckpoint('assets/ann_model.h5',\n",
    "        monitor='val_r_square', \n",
    "        save_best_only=True, \n",
    "        mode='max',verbose=2)]\n",
    "\n",
    "hist = model.fit(xtrainsmall[:1668],ytrainsmall[:1668],epochs=5,callbacks=callbacks,batch_size=32,validation_data=(xtrainsmall[1668:],ytrainsmall[1668:])\n",
    "               ,shuffle=True)"
   ]
  },
  {
   "cell_type": "code",
   "execution_count": 87,
   "metadata": {},
   "outputs": [],
   "source": [
    "ANNPred = model.predict(xtrainsmall[1688:1778])"
   ]
  },
  {
   "cell_type": "code",
   "execution_count": 90,
   "metadata": {},
   "outputs": [
    {
     "data": {
      "text/plain": [
       "0.9256566512269527"
      ]
     },
     "execution_count": 90,
     "metadata": {},
     "output_type": "execute_result"
    }
   ],
   "source": [
    "r2_score(ANNPred,ytrainsmall[1688:1778])"
   ]
  },
  {
   "cell_type": "code",
   "execution_count": 91,
   "metadata": {},
   "outputs": [
    {
     "data": {
      "text/plain": [
       "0.931591023382688"
      ]
     },
     "execution_count": 91,
     "metadata": {},
     "output_type": "execute_result"
    }
   ],
   "source": [
    " from sklearn.metrics import explained_variance_score\n",
    " explained_variance_score(ANNPred,ytrainsmall[1688:1778])"
   ]
  },
  {
   "cell_type": "code",
   "execution_count": 92,
   "metadata": {},
   "outputs": [
    {
     "data": {
      "text/plain": [
       "0.17609172793758449"
      ]
     },
     "execution_count": 92,
     "metadata": {},
     "output_type": "execute_result"
    }
   ],
   "source": [
    "from sklearn.metrics import max_error\n",
    "max_error(ANNPred,ytrainsmall[1688:1778])"
   ]
  },
  {
   "cell_type": "code",
   "execution_count": 97,
   "metadata": {},
   "outputs": [
    {
     "data": {
      "image/png": "[encoded data removed]",
      "text/plain": [
       "<Figure size 432x288 with 1 Axes>"
      ]
     },
     "metadata": {
      "needs_background": "light"
     },
     "output_type": "display_data"
    }
   ],
   "source": [
    "plt.figure()\n",
    "plt.plot(ytrainsmall[1688:1778],color='red',linewidth=3)\n",
    "plt.plot(HQCNNReg, color = 'blue',linewidth=3)\n",
    "plt.plot(ANNPred, color = 'lime',linewidth=3)\n",
    "#plt.scatter(W, res1,color=\"green\",linewidth=3)\n",
    "#plt.plot(SVRPred, color = 'cyan',linewidth=3)\n",
    "#plt.plot(RFPred, color = 'lightpink',linewidth=3)\n",
    "#plt.plot(DTPred, color = 'lightblue',linewidth=3)\n",
    "\n",
    "\n",
    "#plt.scatter(X, Y,color=\"blue\")\n",
    "#plt.scatter(predictions1, Y,color=\"green\")\n",
    "plt.grid(True)\n",
    "plt.xlabel(\"Actual Relative Power (dB)\")\n",
    "plt.ylabel(\"Predicted Relative Power (dB)\")\n",
    "plt.legend(labels=[\"Actual\", \"HCQC Regressor Prediction\", \"ANN Prediction\", \"RF Prediction\", \"DT Prediction\", \"SVR Prediction\"])\n",
    "plt.tick_params(axis=\"both\", which=\"major\")\n",
    "plt.tick_params(axis=\"both\", which=\"minor\")\n",
    "plt.savefig('SVRPrediction.png', dpi=300)\n",
    "plt.show()"
   ]
  },
  {
   "cell_type": "code",
   "execution_count": 113,
   "metadata": {},
   "outputs": [
    {
     "data": {
      "image/png": "[encoded data removed]",
      "text/plain": [
       "<Figure size 432x288 with 1 Axes>"
      ]
     },
     "metadata": {
      "needs_background": "light"
     },
     "output_type": "display_data"
    }
   ],
   "source": [
    "xx = ytrainsmall[1688:1778] #scaler2.inverse_transform(y_train)[0:200,0]\n",
    "yy = HQCNNReg[:len(xx)] #scaler2.inverse_transform(Ypredictiontrain)[0:200,0]\n",
    "yy1 = ANNPred[:]\n",
    "#xx = np.reshape(xx, -1)\n",
    "\n",
    "bubble_plot_line_x1y1 = [min(np.minimum(xx,yy)), max(np.maximum(xx,yy))]\n",
    "bubble_plot_line_x2y2 = [min(np.minimum(xx,yy)), max(np.maximum(xx,yy))]\n",
    "\n",
    "\n",
    "\n",
    "plt.xlim(bubble_plot_line_x1y1[0], bubble_plot_line_x1y1[1])\n",
    "plt.ylim(bubble_plot_line_x1y1[0], bubble_plot_line_x1y1[1])\n",
    "plt.plot(bubble_plot_line_x1y1, bubble_plot_line_x1y1, 'k-', linewidth=1.5)\n",
    "plt.grid(linestyle='--', linewidth=1)\n",
    "plt.scatter(xx, yy, label='HQCNN regressor', marker='*', facecolors='', c='deeppink', s=50)\n",
    "plt.scatter(xx, yy1, label='ANN regressor', marker='*', facecolors='', c='orange', s=50)\n",
    "plt.legend(loc='best', fontsize=10)\n",
    "\n",
    "plt.xlabel('Actual Relative Power', fontsize=10)\n",
    "plt.ylabel('Predicted Relative Power', fontsize=10 ,labelpad=0.8)\n",
    "#plt.savefig('ActualPredictY1.png', dpi=300,bbox_inches = 'tight')\n",
    "\n",
    "plt.show()"
   ]
  },
  {
   "cell_type": "code",
   "execution_count": null,
   "metadata": {},
   "outputs": [],
   "source": []
  },
  {
   "cell_type": "code",
   "execution_count": null,
   "metadata": {},
   "outputs": [],
   "source": []
  },
  {
   "cell_type": "code",
   "execution_count": null,
   "metadata": {},
   "outputs": [],
   "source": []
  }
 ],
 "metadata": {
  "accelerator": "GPU",
  "colab": {
   "background_execution": "on",
   "collapsed_sections": [],
   "machine_shape": "hm",
   "name": "IEEEDSFQReg5Qu100Shot2Qulay.ipynb",
   "provenance": []
  },
  "kernelspec": {
   "display_name": "Python 3 (ipykernel)",
   "language": "python",
   "name": "python3"
  },
  "language_info": {
   "codemirror_mode": {
    "name": "ipython",
    "version": 3
   },
   "file_extension": ".py",
   "mimetype": "text/x-python",
   "name": "python",
   "nbconvert_exporter": "python",
   "pygments_lexer": "ipython3",
   "version": "3.10.8"
  },
  "widgets": {
   "application/vnd.jupyter.widget-state+json": {
    "state": {},
    "version_major": 2,
    "version_minor": 0
   }
  }
 },
 "nbformat": 4,
 "nbformat_minor": 4
}
